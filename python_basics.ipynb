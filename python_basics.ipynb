{
 "cells": [
  {
   "cell_type": "markdown",
   "metadata": {},
   "source": [
    "# Part 1"
   ]
  },
  {
   "cell_type": "markdown",
   "metadata": {},
   "source": [
    "Denne fil er en sammensætning af forskelligt materiale og er derfor lidt en blanding af dansk og engelsk. \n",
    "\n",
    "Målet er at give en introduktion til de mest basale elementer i Python, så I er klædt på til at kunne programmere jeres LEGO mindstorms robot."
   ]
  },
  {
   "cell_type": "markdown",
   "metadata": {
    "slideshow": {
     "slide_type": "slide"
    }
   },
   "source": [
    "# The first program\n",
    "\n",
    "Traditionally, the first program you write in a new language is called \"Hello, World!\" because all it does is display the words \"Hello, World!\"."
   ]
  },
  {
   "cell_type": "code",
   "execution_count": 31,
   "metadata": {
    "slideshow": {
     "slide_type": "fragment"
    }
   },
   "outputs": [
    {
     "name": "stdout",
     "output_type": "stream",
     "text": [
      "Hello, World!\n"
     ]
    }
   ],
   "source": [
    "print('Hello, World!')"
   ]
  },
  {
   "cell_type": "markdown",
   "metadata": {},
   "source": [
    "## Exercise 1\n",
    "Try to make Python print out your name in the cell below. When you have written the code, press shift-enter to run the cell."
   ]
  },
  {
   "cell_type": "code",
   "execution_count": null,
   "metadata": {},
   "outputs": [],
   "source": []
  },
  {
   "cell_type": "markdown",
   "metadata": {
    "slideshow": {
     "slide_type": "slide"
    }
   },
   "source": [
    "# Arithmetic operators\n",
    "\n",
    "Addition, subtraction, multiplication and division:"
   ]
  },
  {
   "cell_type": "code",
   "execution_count": 32,
   "metadata": {
    "slideshow": {
     "slide_type": "subslide"
    }
   },
   "outputs": [
    {
     "data": {
      "text/plain": [
       "42"
      ]
     },
     "execution_count": 32,
     "metadata": {},
     "output_type": "execute_result"
    }
   ],
   "source": [
    "40+2"
   ]
  },
  {
   "cell_type": "code",
   "execution_count": 33,
   "metadata": {
    "slideshow": {
     "slide_type": "fragment"
    }
   },
   "outputs": [
    {
     "data": {
      "text/plain": [
       "42"
      ]
     },
     "execution_count": 33,
     "metadata": {},
     "output_type": "execute_result"
    }
   ],
   "source": [
    "43-1"
   ]
  },
  {
   "cell_type": "code",
   "execution_count": 34,
   "metadata": {
    "slideshow": {
     "slide_type": "fragment"
    }
   },
   "outputs": [
    {
     "data": {
      "text/plain": [
       "42"
      ]
     },
     "execution_count": 34,
     "metadata": {},
     "output_type": "execute_result"
    }
   ],
   "source": [
    "6*7"
   ]
  },
  {
   "cell_type": "code",
   "execution_count": 35,
   "metadata": {
    "slideshow": {
     "slide_type": "fragment"
    }
   },
   "outputs": [
    {
     "data": {
      "text/plain": [
       "42.0"
      ]
     },
     "execution_count": 35,
     "metadata": {},
     "output_type": "execute_result"
    }
   ],
   "source": [
    "84/2"
   ]
  },
  {
   "cell_type": "markdown",
   "metadata": {
    "slideshow": {
     "slide_type": "fragment"
    }
   },
   "source": [
    "We'll get back to why it is \".0\"."
   ]
  },
  {
   "cell_type": "markdown",
   "metadata": {},
   "source": [
    "## Exercise 2\n",
    "Calculate how many paws do 3 cats and 4 dogs have? (answer is 28)"
   ]
  },
  {
   "cell_type": "code",
   "execution_count": null,
   "metadata": {},
   "outputs": [],
   "source": []
  },
  {
   "cell_type": "markdown",
   "metadata": {
    "slideshow": {
     "slide_type": "slide"
    }
   },
   "source": [
    "## Exponentiation (raise number to a power)\n",
    "\n",
    "E.g. $6^2+6$:"
   ]
  },
  {
   "cell_type": "code",
   "execution_count": 4,
   "metadata": {
    "slideshow": {
     "slide_type": "subslide"
    }
   },
   "outputs": [
    {
     "data": {
      "text/plain": [
       "42"
      ]
     },
     "execution_count": 4,
     "metadata": {},
     "output_type": "execute_result"
    }
   ],
   "source": [
    "6**2 + 6"
   ]
  },
  {
   "cell_type": "markdown",
   "metadata": {},
   "source": [
    "## Exercise 3\n",
    "In the cell below, please calculate $0.5 x^2 + 2 x + 4$ for x = 2. Check that you get 10 as result."
   ]
  },
  {
   "cell_type": "code",
   "execution_count": null,
   "metadata": {},
   "outputs": [],
   "source": []
  },
  {
   "cell_type": "markdown",
   "metadata": {
    "slideshow": {
     "slide_type": "subslide"
    }
   },
   "source": [
    "### NB!\n",
    "\n",
    "In many programming languages, the \"^\" operator is used to raise a number to a power.\n",
    "E.g. in C, $6^2+6$ is written as \"6^2+6\".\n",
    "\n",
    "However, in Python, \"^\" is the bitwise operator XOR."
   ]
  },
  {
   "cell_type": "markdown",
   "metadata": {
    "slideshow": {
     "slide_type": "slide"
    }
   },
   "source": [
    "# Values and types\n",
    "\n",
    "A value is one of the basic things a program works with, like a letter or a number. Some values we have seen so far are 2, 42.0, and \"Hello, World!\".\n",
    "\n",
    "These values belong to different types: 2 is an integer, 42.0 is a floating-point number, and 'Hello, World!' is a string, so-called because the letters it contains are strung together.\n",
    "\n",
    "We can use the `type` command to find out the type of a variable. Some examples are given below:"
   ]
  },
  {
   "cell_type": "code",
   "execution_count": 37,
   "metadata": {
    "slideshow": {
     "slide_type": "slide"
    }
   },
   "outputs": [
    {
     "data": {
      "text/plain": [
       "int"
      ]
     },
     "execution_count": 37,
     "metadata": {},
     "output_type": "execute_result"
    }
   ],
   "source": [
    "type(2)"
   ]
  },
  {
   "cell_type": "code",
   "execution_count": 38,
   "metadata": {
    "slideshow": {
     "slide_type": "fragment"
    }
   },
   "outputs": [
    {
     "data": {
      "text/plain": [
       "float"
      ]
     },
     "execution_count": 38,
     "metadata": {},
     "output_type": "execute_result"
    }
   ],
   "source": [
    "type(42.0)"
   ]
  },
  {
   "cell_type": "code",
   "execution_count": 39,
   "metadata": {
    "slideshow": {
     "slide_type": "fragment"
    }
   },
   "outputs": [
    {
     "data": {
      "text/plain": [
       "str"
      ]
     },
     "execution_count": 39,
     "metadata": {},
     "output_type": "execute_result"
    }
   ],
   "source": [
    "type('Hello, World!')"
   ]
  },
  {
   "cell_type": "markdown",
   "metadata": {
    "slideshow": {
     "slide_type": "fragment"
    }
   },
   "source": [
    "Notice that the following is also a string, because the number is put in single-quotation marks. Thereby we tell Python to treat it as a string:"
   ]
  },
  {
   "cell_type": "code",
   "execution_count": 40,
   "metadata": {
    "slideshow": {
     "slide_type": "fragment"
    }
   },
   "outputs": [
    {
     "data": {
      "text/plain": [
       "str"
      ]
     },
     "execution_count": 40,
     "metadata": {},
     "output_type": "execute_result"
    }
   ],
   "source": [
    "type('42.0')"
   ]
  },
  {
   "cell_type": "markdown",
   "metadata": {
    "slideshow": {
     "slide_type": "slide"
    }
   },
   "source": [
    "## NB! Do not use comma for large numbers:\n",
    "Comma has the special meaning in Python of an element seperator."
   ]
  },
  {
   "cell_type": "code",
   "execution_count": 41,
   "metadata": {
    "slideshow": {
     "slide_type": "subslide"
    }
   },
   "outputs": [
    {
     "data": {
      "text/plain": [
       "(1, 0, 0)"
      ]
     },
     "execution_count": 41,
     "metadata": {},
     "output_type": "execute_result"
    }
   ],
   "source": [
    "1,000,000"
   ]
  },
  {
   "cell_type": "code",
   "execution_count": 42,
   "metadata": {
    "slideshow": {
     "slide_type": "fragment"
    }
   },
   "outputs": [
    {
     "data": {
      "text/plain": [
       "tuple"
      ]
     },
     "execution_count": 42,
     "metadata": {},
     "output_type": "execute_result"
    }
   ],
   "source": [
    "type((1, 0, 0))"
   ]
  },
  {
   "cell_type": "markdown",
   "metadata": {
    "slideshow": {
     "slide_type": "subslide"
    }
   },
   "source": [
    "Since we provided three elements, Python interpreted our input as a tuple, which is a container of elements.\n",
    "\n",
    "Don't worry about this for now, we'll learn about tuples later."
   ]
  },
  {
   "cell_type": "markdown",
   "metadata": {
    "slideshow": {
     "slide_type": "slide"
    }
   },
   "source": [
    "# Formal and natural languages\n",
    "\n",
    "<b>Natural</b> languages are the languages people speak, such as English, Spanish, and French. They were not designed by people (although people try to impose some order on them); they evolved naturally.\n",
    "\n",
    "<b>Formal</b> languages are languages that are designed by people for specific applications. For example: \n",
    "- <b>Math</b> notation is a formal language that is particularly good at denoting relationships among numbers and symbols. \n",
    "- <b>Chemist</b> notation is a formal language to represent the chemical structure of molecules. "
   ]
  },
  {
   "cell_type": "markdown",
   "metadata": {
    "slideshow": {
     "slide_type": "subslide"
    }
   },
   "source": [
    "And most importantly:\n",
    "<br>\n",
    "<div><b><center>Programming languages are formal languages that have been designed to express computations.</center></b></div>"
   ]
  },
  {
   "cell_type": "markdown",
   "metadata": {
    "slideshow": {
     "slide_type": "slide"
    }
   },
   "source": [
    "<b>Natural</b> language have loose syntax; minor typos/grammatical errors are usually not critical.\n",
    "    - E.g.: \"This is @ well-structured Engli$h sentence with invalid t*kens in it\"\n",
    "\n",
    "<b>Formal</b> languages have strict syntax, and the smallest deviation from the rules causes an error.\n",
    "\n",
    "Python does not understand what you meant to say, only what you actually wrote.\n"
   ]
  },
  {
   "cell_type": "markdown",
   "metadata": {
    "slideshow": {
     "slide_type": "slide"
    }
   },
   "source": [
    "# Assignment statements\n",
    "First we can define a string variable:"
   ]
  },
  {
   "cell_type": "code",
   "execution_count": 43,
   "metadata": {
    "slideshow": {
     "slide_type": "fragment"
    }
   },
   "outputs": [
    {
     "name": "stdout",
     "output_type": "stream",
     "text": [
      "And now for something completely different\n"
     ]
    }
   ],
   "source": [
    "message = 'And now for something completely different'\n",
    "print(message)"
   ]
  },
  {
   "cell_type": "markdown",
   "metadata": {},
   "source": [
    "We can also define number variables, either integers (heltal) or floating point (kommatal)."
   ]
  },
  {
   "cell_type": "code",
   "execution_count": 14,
   "metadata": {
    "slideshow": {
     "slide_type": "fragment"
    }
   },
   "outputs": [
    {
     "data": {
      "text/plain": [
       "17"
      ]
     },
     "execution_count": 14,
     "metadata": {},
     "output_type": "execute_result"
    }
   ],
   "source": [
    "n = 17\n",
    "n"
   ]
  },
  {
   "cell_type": "code",
   "execution_count": 15,
   "metadata": {
    "slideshow": {
     "slide_type": "fragment"
    }
   },
   "outputs": [
    {
     "data": {
      "text/plain": [
       "3.141592653589793"
      ]
     },
     "execution_count": 15,
     "metadata": {},
     "output_type": "execute_result"
    }
   ],
   "source": [
    "pi = 3.1415926535897932\n",
    "pi"
   ]
  },
  {
   "cell_type": "markdown",
   "metadata": {
    "slideshow": {
     "slide_type": "slide"
    }
   },
   "source": [
    "## Variable names"
   ]
  },
  {
   "cell_type": "markdown",
   "metadata": {
    "slideshow": {
     "slide_type": "fragment"
    }
   },
   "source": [
    "- In Python: variables, functions, objects cannot have numbers as the first character.\n",
    "    - Only numbers can start with a number digit.\n",
    "- It is conventional to use only lower case letters for names, and underscore '_' to combine words.\n",
    "    - For example 'car_speed_kmh'"
   ]
  },
  {
   "cell_type": "markdown",
   "metadata": {
    "slideshow": {
     "slide_type": "subslide"
    }
   },
   "source": [
    "- Reserved words cannot be used as variable names: `and`, `as`, `assert`, `async`, `await`, `break`, `class`, `continue`, `def`, `del`, `elif`, `else`, `except`, `False`, `finally`, `for`, `from`, `global`, `if`, `import`, `in`, `is`, `lambda`, `None`, `nonlocal`, `not`, `or`, `pass`, `raise`, `return`, `True`, `try`, `while`, `with` and `yield`. (we will see the meaning of these later)"
   ]
  },
  {
   "cell_type": "markdown",
   "metadata": {},
   "source": [
    "## Exercise 5\n",
    "Create a string variable named \"name\" that contains your name."
   ]
  },
  {
   "cell_type": "code",
   "execution_count": 12,
   "metadata": {},
   "outputs": [],
   "source": []
  },
  {
   "cell_type": "markdown",
   "metadata": {
    "slideshow": {
     "slide_type": "slide"
    }
   },
   "source": [
    "## Expressions and statements\n",
    "\n",
    "An expression is a combination of values, variables, and operators. A value all by itself is\n",
    "considered an expression, and so is a variable, so the following are all legal expressions:"
   ]
  },
  {
   "cell_type": "code",
   "execution_count": 16,
   "metadata": {
    "slideshow": {
     "slide_type": "fragment"
    }
   },
   "outputs": [
    {
     "data": {
      "text/plain": [
       "42"
      ]
     },
     "execution_count": 16,
     "metadata": {},
     "output_type": "execute_result"
    }
   ],
   "source": [
    "42"
   ]
  },
  {
   "cell_type": "code",
   "execution_count": 17,
   "metadata": {
    "slideshow": {
     "slide_type": "fragment"
    }
   },
   "outputs": [
    {
     "data": {
      "text/plain": [
       "17"
      ]
     },
     "execution_count": 17,
     "metadata": {},
     "output_type": "execute_result"
    }
   ],
   "source": [
    "n"
   ]
  },
  {
   "cell_type": "code",
   "execution_count": 18,
   "metadata": {
    "slideshow": {
     "slide_type": "fragment"
    }
   },
   "outputs": [
    {
     "data": {
      "text/plain": [
       "42"
      ]
     },
     "execution_count": 18,
     "metadata": {},
     "output_type": "execute_result"
    }
   ],
   "source": [
    "n+25"
   ]
  },
  {
   "cell_type": "markdown",
   "metadata": {
    "slideshow": {
     "slide_type": "subslide"
    }
   },
   "source": [
    "A statement is a unit of code that has an effect, like creating a variable or displaying a value.\n",
    "\n",
    "Example of two statements:"
   ]
  },
  {
   "cell_type": "code",
   "execution_count": 19,
   "metadata": {
    "slideshow": {
     "slide_type": "-"
    }
   },
   "outputs": [],
   "source": [
    "n=17"
   ]
  },
  {
   "cell_type": "code",
   "execution_count": 20,
   "metadata": {
    "slideshow": {
     "slide_type": "-"
    }
   },
   "outputs": [
    {
     "name": "stdout",
     "output_type": "stream",
     "text": [
      "17\n"
     ]
    }
   ],
   "source": [
    "print(n)"
   ]
  },
  {
   "cell_type": "markdown",
   "metadata": {
    "slideshow": {
     "slide_type": "-"
    }
   },
   "source": [
    "The typed text is executed by the Python interpreter, line by line. We can also use script mode."
   ]
  },
  {
   "cell_type": "markdown",
   "metadata": {
    "slideshow": {
     "slide_type": "slide"
    }
   },
   "source": [
    "## Script mode\n",
    "\n",
    "If using Python as calculator, we may write two <b>statements</b>:"
   ]
  },
  {
   "cell_type": "code",
   "execution_count": 21,
   "metadata": {},
   "outputs": [],
   "source": [
    "miles = 26.2"
   ]
  },
  {
   "cell_type": "code",
   "execution_count": 22,
   "metadata": {},
   "outputs": [
    {
     "data": {
      "text/plain": [
       "42.182"
      ]
     },
     "execution_count": 22,
     "metadata": {},
     "output_type": "execute_result"
    }
   ],
   "source": [
    "miles * 1.61"
   ]
  },
  {
   "cell_type": "markdown",
   "metadata": {},
   "source": [
    "- The first line is an <b>assignment (tildeling)</b> that has no output.\n",
    "- The second line is an <b>expression (udtryk)</b> that outputs the result.\n",
    "\n",
    "A script is a collection of statements. If we collect the two statements above in the same cell (or in the same file in Spyder), they now make up a script."
   ]
  },
  {
   "cell_type": "code",
   "execution_count": 23,
   "metadata": {},
   "outputs": [
    {
     "data": {
      "text/plain": [
       "42.182"
      ]
     },
     "execution_count": 23,
     "metadata": {},
     "output_type": "execute_result"
    }
   ],
   "source": [
    "miles = 26.2\n",
    "miles * 1.61"
   ]
  },
  {
   "cell_type": "markdown",
   "metadata": {
    "slideshow": {
     "slide_type": "slide"
    }
   },
   "source": [
    "## Order of operations\n",
    "\n",
    "- As in many other computing languages there are certain rules for evaluating expressions.\n",
    "- Arithmetic operators are evaluated in the following order, where the highest has precedence:\n",
    "    - Paranthesis: `()`\n",
    "    - Power: `**`\n",
    "    - Sign: `+x, -x`\n",
    "    - Multiplication, division, modulo: `*, /, %`\n",
    "    - Addition and subtraction: `+, -`\n",
    "- Groups left to right if on same level."
   ]
  },
  {
   "cell_type": "markdown",
   "metadata": {},
   "source": [
    "## Exercise 6\n",
    "\n",
    "According to the rules above, what is the correct interpretation of $b-a \\cdot x^2$? Only one of the choices below is correct.\n",
    "\n",
    " 1. $(b-a)x^2$?\n",
    " 2. $b-(a(x^2))$?\n",
    " 3. $(b-ax)^2$?\n",
    " 4. $b-(ax)^2$?\n"
   ]
  },
  {
   "cell_type": "markdown",
   "metadata": {},
   "source": [
    "Discuss in your group what is the correct choice and make sure you understand why."
   ]
  },
  {
   "cell_type": "markdown",
   "metadata": {
    "slideshow": {
     "slide_type": "slide"
    }
   },
   "source": [
    "## String operations\n",
    "\n",
    "We can use `+` and `*` operators on strings:"
   ]
  },
  {
   "cell_type": "code",
   "execution_count": 54,
   "metadata": {},
   "outputs": [
    {
     "data": {
      "text/plain": [
       "'input'"
      ]
     },
     "execution_count": 54,
     "metadata": {},
     "output_type": "execute_result"
    }
   ],
   "source": [
    "'in' + 'put'"
   ]
  },
  {
   "cell_type": "code",
   "execution_count": 55,
   "metadata": {},
   "outputs": [
    {
     "data": {
      "text/plain": [
       "'samesame'"
      ]
     },
     "execution_count": 55,
     "metadata": {},
     "output_type": "execute_result"
    }
   ],
   "source": [
    "'same'*2"
   ]
  },
  {
   "cell_type": "code",
   "execution_count": 56,
   "metadata": {},
   "outputs": [
    {
     "data": {
      "text/plain": [
       "'samesame'"
      ]
     },
     "execution_count": 56,
     "metadata": {},
     "output_type": "execute_result"
    }
   ],
   "source": [
    "'same' + 'same'"
   ]
  },
  {
   "cell_type": "markdown",
   "metadata": {},
   "source": [
    "## Exercise 7\n",
    "\n",
    "Make a small script in the cell below that writes the following string: `--- Headline ---`. You are only allowed to use the dash (`-`) twice."
   ]
  },
  {
   "cell_type": "code",
   "execution_count": null,
   "metadata": {},
   "outputs": [],
   "source": []
  },
  {
   "cell_type": "markdown",
   "metadata": {
    "slideshow": {
     "slide_type": "slide"
    }
   },
   "source": [
    "## Comments in Python code\n",
    "- It is possible to insert comments to explain the idea behind the code.\n",
    "- Should help both you and other programmers to understand the code.\n",
    "- In Python: everything after `#` on a line is considered a comment."
   ]
  },
  {
   "cell_type": "code",
   "execution_count": 25,
   "metadata": {},
   "outputs": [],
   "source": [
    "minute = 2\n",
    "# compute the percentage of the hour that has elapsed\n",
    "percentage = (minute * 100) / 60"
   ]
  },
  {
   "cell_type": "code",
   "execution_count": 26,
   "metadata": {},
   "outputs": [],
   "source": [
    "percentage = (minute * 100) / 60 # percentage of an hour"
   ]
  },
  {
   "cell_type": "markdown",
   "metadata": {},
   "source": [
    "Besides being used for explaining code the `#` can also be used to comment out lines of code, e.g. if you are trying out different ideas."
   ]
  },
  {
   "cell_type": "markdown",
   "metadata": {},
   "source": [
    "## Exercise 8\n",
    "\n",
    "In the following code, try commenting out different lines by placing a `#` at the beginning of a line to disable those lines."
   ]
  },
  {
   "cell_type": "code",
   "execution_count": 29,
   "metadata": {},
   "outputs": [
    {
     "name": "stdout",
     "output_type": "stream",
     "text": [
      "4\n"
     ]
    }
   ],
   "source": [
    "a = 2\n",
    "a = 3\n",
    "a = 4\n",
    "print(a)"
   ]
  },
  {
   "cell_type": "markdown",
   "metadata": {},
   "source": [
    "## Printing strings with variables\n",
    "In Python there are different ways to print a string in which the values of variables are inserted. The most recent method is to use what is called f-strings. An example of how it works is given below:"
   ]
  },
  {
   "cell_type": "code",
   "execution_count": 30,
   "metadata": {},
   "outputs": [
    {
     "name": "stdout",
     "output_type": "stream",
     "text": [
      "My name is Bob and I am 21 years old.\n"
     ]
    }
   ],
   "source": [
    "age = 21\n",
    "name = 'Bob'\n",
    "print(f'My name is {name} and I am {age} years old.')"
   ]
  },
  {
   "cell_type": "markdown",
   "metadata": {},
   "source": [
    "As you can see, the two variables `age` and `name` are inserted in the placed indicated by the variables names, surrounded by curly braces. Notice the `f` before the start of the string - this tells the print function to treat this string specially and insert the values of the variables.\n",
    "\n",
    "Actually, anything that you put inside the curly braces will be treated as an expression. This means that you can actually do arithmetic operations or function calls inside the curly braces, e.g.:"
   ]
  },
  {
   "cell_type": "code",
   "execution_count": 32,
   "metadata": {},
   "outputs": [
    {
     "name": "stdout",
     "output_type": "stream",
     "text": [
      "Your name is 5 characters long.\n"
     ]
    }
   ],
   "source": [
    "name = 'Bobby'\n",
    "print(f'Your name is {len(name)} characters long.')"
   ]
  },
  {
   "cell_type": "markdown",
   "metadata": {},
   "source": [
    "## Exercise 9\n",
    "First define a variable that contains a number. Now, use the f-string method to print out the number and the square of the number, where you calculate the squared number directly in the curly braces. \n",
    "\n",
    "The output should be like this:\n",
    "\n",
    "`The number is 3, the squared number is 9.`"
   ]
  },
  {
   "cell_type": "markdown",
   "metadata": {},
   "source": [
    "# Part 2"
   ]
  },
  {
   "cell_type": "markdown",
   "metadata": {
    "slideshow": {
     "slide_type": "slide"
    }
   },
   "source": [
    "# Hvad er en funktion?"
   ]
  },
  {
   "cell_type": "markdown",
   "metadata": {
    "slideshow": {
     "slide_type": "fragment"
    }
   },
   "source": [
    "En funktion er en samling kommandoer som udfører en opgave.\n",
    "\n",
    "Funktionen er identificeret ved et navn, som man kan bruge til at *kalde* dvs. udføre funktionen med."
   ]
  },
  {
   "cell_type": "markdown",
   "metadata": {
    "slideshow": {
     "slide_type": "subslide"
    }
   },
   "source": [
    "### Nogle eksempler på funktioner indbygget i Python"
   ]
  },
  {
   "cell_type": "markdown",
   "metadata": {},
   "source": [
    "Tjek typen:"
   ]
  },
  {
   "cell_type": "code",
   "execution_count": 7,
   "metadata": {
    "slideshow": {
     "slide_type": "-"
    }
   },
   "outputs": [
    {
     "data": {
      "text/plain": [
       "str"
      ]
     },
     "execution_count": 7,
     "metadata": {},
     "output_type": "execute_result"
    }
   ],
   "source": [
    "type('Hej')"
   ]
  },
  {
   "cell_type": "markdown",
   "metadata": {},
   "source": [
    "Konverter en streng med et tal til et heltal:"
   ]
  },
  {
   "cell_type": "code",
   "execution_count": 9,
   "metadata": {
    "slideshow": {
     "slide_type": "fragment"
    }
   },
   "outputs": [
    {
     "data": {
      "text/plain": [
       "32"
      ]
     },
     "execution_count": 9,
     "metadata": {},
     "output_type": "execute_result"
    }
   ],
   "source": [
    "int('32')"
   ]
  },
  {
   "cell_type": "markdown",
   "metadata": {},
   "source": [
    "Hvorfor virker nedenstående ikke?"
   ]
  },
  {
   "cell_type": "code",
   "execution_count": 10,
   "metadata": {
    "slideshow": {
     "slide_type": "fragment"
    }
   },
   "outputs": [
    {
     "ename": "ValueError",
     "evalue": "invalid literal for int() with base 10: 'Hej'",
     "output_type": "error",
     "traceback": [
      "\u001b[0;31m---------------------------------------------------------------------------\u001b[0m",
      "\u001b[0;31mValueError\u001b[0m                                Traceback (most recent call last)",
      "\u001b[0;32m<ipython-input-10-d61a80eff556>\u001b[0m in \u001b[0;36m<module>\u001b[0;34m\u001b[0m\n\u001b[0;32m----> 1\u001b[0;31m \u001b[0mint\u001b[0m\u001b[0;34m(\u001b[0m\u001b[0;34m'Hej'\u001b[0m\u001b[0;34m)\u001b[0m\u001b[0;34m\u001b[0m\u001b[0;34m\u001b[0m\u001b[0m\n\u001b[0m",
      "\u001b[0;31mValueError\u001b[0m: invalid literal for int() with base 10: 'Hej'"
     ]
    }
   ],
   "source": [
    "int('Hej')"
   ]
  },
  {
   "cell_type": "markdown",
   "metadata": {},
   "source": [
    "Konverter et kommatal til et heltal. Bemærk hvad der sker med decimalerne."
   ]
  },
  {
   "cell_type": "code",
   "execution_count": 11,
   "metadata": {
    "slideshow": {
     "slide_type": "subslide"
    }
   },
   "outputs": [
    {
     "data": {
      "text/plain": [
       "4"
      ]
     },
     "execution_count": 11,
     "metadata": {},
     "output_type": "execute_result"
    }
   ],
   "source": [
    "int(4.5678)"
   ]
  },
  {
   "cell_type": "markdown",
   "metadata": {},
   "source": [
    "Konverter en streng med tal til kommatal:"
   ]
  },
  {
   "cell_type": "code",
   "execution_count": 12,
   "metadata": {
    "slideshow": {
     "slide_type": "fragment"
    }
   },
   "outputs": [
    {
     "data": {
      "text/plain": [
       "2.7182"
      ]
     },
     "execution_count": 12,
     "metadata": {},
     "output_type": "execute_result"
    }
   ],
   "source": [
    "float('2.7182')"
   ]
  },
  {
   "cell_type": "markdown",
   "metadata": {},
   "source": [
    "Konverter et tal til en streng:"
   ]
  },
  {
   "cell_type": "code",
   "execution_count": 13,
   "metadata": {
    "slideshow": {
     "slide_type": "fragment"
    }
   },
   "outputs": [
    {
     "data": {
      "text/plain": [
       "'32'"
      ]
     },
     "execution_count": 13,
     "metadata": {},
     "output_type": "execute_result"
    }
   ],
   "source": [
    "str(32)"
   ]
  },
  {
   "cell_type": "markdown",
   "metadata": {},
   "source": [
    "## Opgave 1\n",
    "Udvid nedenstående kode med de rette af ovenstående funktioner så du kan udregne hvad $7 \\cdot a$ er."
   ]
  },
  {
   "cell_type": "code",
   "execution_count": 17,
   "metadata": {},
   "outputs": [],
   "source": [
    "a = '2.5'"
   ]
  },
  {
   "cell_type": "markdown",
   "metadata": {
    "slideshow": {
     "slide_type": "subslide"
    }
   },
   "source": [
    "### Eksempler på funktioner fra Pythons standardbibliotek\n",
    "\n",
    "Lad os som eksempel her se `math`-modulet.\n",
    "- En samling som stiller et udvalg af almindelige matematiske funktioner til rådighed.\n",
    "- Et *modul* i Python er en samling funktioner m.m. - samlet i én fil."
   ]
  },
  {
   "cell_type": "code",
   "execution_count": 19,
   "metadata": {
    "slideshow": {
     "slide_type": "-"
    }
   },
   "outputs": [],
   "source": [
    "import math"
   ]
  },
  {
   "cell_type": "code",
   "execution_count": 20,
   "metadata": {
    "slideshow": {
     "slide_type": "fragment"
    }
   },
   "outputs": [
    {
     "data": {
      "text/plain": [
       "<module 'math' from '/Users/jjn/opt/anaconda3/lib/python3.7/lib-dynload/math.cpython-37m-darwin.so'>"
      ]
     },
     "execution_count": 20,
     "metadata": {},
     "output_type": "execute_result"
    }
   ],
   "source": [
    "math"
   ]
  },
  {
   "cell_type": "markdown",
   "metadata": {
    "slideshow": {
     "slide_type": "subslide"
    }
   },
   "source": [
    "For at tilgå funktioner fra et modul bruges 'dot'-notation (punktum). Se i eksemplerne herunder hvordan vi tilgår hhv. `log10()` og `sin()` funktionerne fra `math`-modulet:"
   ]
  },
  {
   "cell_type": "code",
   "execution_count": 21,
   "metadata": {
    "slideshow": {
     "slide_type": "-"
    }
   },
   "outputs": [
    {
     "data": {
      "text/plain": [
       "10.0"
      ]
     },
     "execution_count": 21,
     "metadata": {},
     "output_type": "execute_result"
    }
   ],
   "source": [
    "signal_power = 10\n",
    "noise_power = 1\n",
    "ratio = signal_power / noise_power\n",
    "decibels = 10 * math.log10(ratio)\n",
    "decibels"
   ]
  },
  {
   "cell_type": "code",
   "execution_count": 23,
   "metadata": {
    "slideshow": {
     "slide_type": "fragment"
    }
   },
   "outputs": [
    {
     "data": {
      "text/plain": [
       "0.644217687237691"
      ]
     },
     "execution_count": 23,
     "metadata": {},
     "output_type": "execute_result"
    }
   ],
   "source": [
    "radians = 0.7\n",
    "height = math.sin(radians)\n",
    "height"
   ]
  },
  {
   "cell_type": "markdown",
   "metadata": {},
   "source": [
    "## Opgave 2\n",
    "Lav et script herunder der udregner arealet af en cirkel ud fra en radius gemt i variablen `r`. Hint: brug konstanten `pi` fra `math`-modulet vha. dot-notation."
   ]
  },
  {
   "cell_type": "code",
   "execution_count": null,
   "metadata": {},
   "outputs": [],
   "source": []
  },
  {
   "cell_type": "markdown",
   "metadata": {
    "slideshow": {
     "slide_type": "subslide"
    }
   },
   "source": [
    "# Vore egne funktioner\n",
    "\n",
    "Vi har set nogle enkelte eksempler på funktioner indbygget i Python. Endnu mere interessant er det nok, at vi også kan definere vore egne funktioner.\n",
    "\n",
    "Et første eksempel:"
   ]
  },
  {
   "cell_type": "code",
   "execution_count": 32,
   "metadata": {
    "slideshow": {
     "slide_type": "fragment"
    }
   },
   "outputs": [],
   "source": [
    "def print_haiku():\n",
    "    print('Tyst falder løvet')\n",
    "    print('Efteråret tilstunder')\n",
    "    print('Regnens sagte \"dryp\"')"
   ]
  },
  {
   "cell_type": "markdown",
   "metadata": {
    "slideshow": {
     "slide_type": "fragment"
    }
   },
   "source": [
    "- En funktionsdefinition starter altid med nøgleordet `def`.\n",
    "- Lige efter kommer funktionens navn, der kan bestå af bogstaver, tal og understreg - men må ikke starte med et tal.\n",
    "- efter navnet kommer parenteser (evt. argumenter - her har vi ingen) og linjen afsluttes med kolon.\n",
    "- Selve funktionaliteten af funktionen skrives på de efterfølgende linjer. Bemærk indrykning - det er en essentiel detalje i Python. Python bruger udelukkende indrykningen til at se hvad der hører til funktionen og hvad der ikke er en del af den.\n"
   ]
  },
  {
   "cell_type": "markdown",
   "metadata": {
    "slideshow": {
     "slide_type": "subslide"
    }
   },
   "source": [
    "Når man definerer en funktion, dannes et funktions-*objekt*."
   ]
  },
  {
   "cell_type": "code",
   "execution_count": 33,
   "metadata": {
    "slideshow": {
     "slide_type": "fragment"
    }
   },
   "outputs": [
    {
     "name": "stdout",
     "output_type": "stream",
     "text": [
      "<function print_haiku at 0x7fd8810b1560>\n"
     ]
    }
   ],
   "source": [
    "print(print_haiku)"
   ]
  },
  {
   "cell_type": "code",
   "execution_count": 34,
   "metadata": {
    "slideshow": {
     "slide_type": "fragment"
    }
   },
   "outputs": [
    {
     "data": {
      "text/plain": [
       "function"
      ]
     },
     "execution_count": 34,
     "metadata": {},
     "output_type": "execute_result"
    }
   ],
   "source": [
    "type(print_haiku)"
   ]
  },
  {
   "cell_type": "markdown",
   "metadata": {
    "slideshow": {
     "slide_type": "subslide"
    }
   },
   "source": [
    "Vi kalder en sådan funktion på samme måde som de indbyggede funktioner i Python - funktionens navn og parenteser:"
   ]
  },
  {
   "cell_type": "code",
   "execution_count": 35,
   "metadata": {
    "slideshow": {
     "slide_type": "-"
    }
   },
   "outputs": [
    {
     "name": "stdout",
     "output_type": "stream",
     "text": [
      "Tyst falder løvet\n",
      "Efteråret tilstunder\n",
      "Regnens sagte \"dryp\"\n"
     ]
    }
   ],
   "source": [
    "print_haiku()"
   ]
  },
  {
   "cell_type": "markdown",
   "metadata": {
    "slideshow": {
     "slide_type": "subslide"
    }
   },
   "source": [
    "Når man har defineret en funktion, kan man f.eks. bruge den indeni en anden funktion:"
   ]
  },
  {
   "cell_type": "code",
   "execution_count": 36,
   "metadata": {
    "slideshow": {
     "slide_type": "-"
    }
   },
   "outputs": [],
   "source": [
    "def gentag_haiku():\n",
    "    print_haiku()\n",
    "    print_haiku()"
   ]
  },
  {
   "cell_type": "markdown",
   "metadata": {
    "slideshow": {
     "slide_type": "fragment"
    }
   },
   "source": [
    "Lad os prøve at kalde den:"
   ]
  },
  {
   "cell_type": "code",
   "execution_count": 37,
   "metadata": {
    "slideshow": {
     "slide_type": "-"
    }
   },
   "outputs": [
    {
     "name": "stdout",
     "output_type": "stream",
     "text": [
      "Tyst falder løvet\n",
      "Efteråret tilstunder\n",
      "Regnens sagte \"dryp\"\n",
      "Tyst falder løvet\n",
      "Efteråret tilstunder\n",
      "Regnens sagte \"dryp\"\n"
     ]
    }
   ],
   "source": [
    "gentag_haiku()"
   ]
  },
  {
   "cell_type": "markdown",
   "metadata": {
    "slideshow": {
     "slide_type": "fragment"
    }
   },
   "source": [
    "Vi kan sætte vores funktioner sammen så de danner et modul:"
   ]
  },
  {
   "cell_type": "code",
   "execution_count": 39,
   "metadata": {},
   "outputs": [
    {
     "name": "stdout",
     "output_type": "stream",
     "text": [
      "Tyst falder løvet\n",
      "Efteråret tilstunder\n",
      "Regnens sagte \"dryp\"\n",
      "Tyst falder løvet\n",
      "Efteråret tilstunder\n",
      "Regnens sagte \"dryp\"\n"
     ]
    }
   ],
   "source": [
    "def print_haiku():\n",
    "    print('Tyst falder løvet')\n",
    "    print('Efteråret tilstunder')\n",
    "    print('Regnens sagte \"dryp\"')\n",
    "\n",
    "def gentag_haiku():\n",
    "    print_haiku()\n",
    "    print_haiku()\n",
    "    \n",
    "gentag_haiku()"
   ]
  },
  {
   "cell_type": "markdown",
   "metadata": {},
   "source": [
    "Bemærk hvordan den sidste linje der kalder `gentag_haiku()` ikke er indrykket da den ikke er en del af funktionen."
   ]
  },
  {
   "cell_type": "markdown",
   "metadata": {},
   "source": [
    "## Opgave 4\n",
    "Prøv at indsætte følgende kommando på linje 9: `print('Haiku-digt om efterår:')`, og se hvilken forskel det gør i output om linjen er indrykket eller ej. Vær sikker på at du forstår hvad forskellen skyldes."
   ]
  },
  {
   "cell_type": "code",
   "execution_count": 42,
   "metadata": {},
   "outputs": [
    {
     "name": "stdout",
     "output_type": "stream",
     "text": [
      "Tyst falder løvet\n",
      "Efteråret tilstunder\n",
      "Regnens sagte \"dryp\"\n",
      "Tyst falder løvet\n",
      "Efteråret tilstunder\n",
      "Regnens sagte \"dryp\"\n"
     ]
    }
   ],
   "source": [
    "def print_haiku():\n",
    "    print('Tyst falder løvet')\n",
    "    print('Efteråret tilstunder')\n",
    "    print('Regnens sagte \"dryp\"')\n",
    "\n",
    "def gentag_haiku():\n",
    "    print_haiku()\n",
    "    print_haiku()\n",
    "\n",
    "gentag_haiku()"
   ]
  },
  {
   "cell_type": "markdown",
   "metadata": {
    "slideshow": {
     "slide_type": "subslide"
    }
   },
   "source": [
    "## Parametre og argumenter\n",
    "\n",
    "Nogle funktioner kræver **argumenter** - f.eks. `math.sin`, der kun virker hvis den får et tal som input.\n",
    "- Argumenterne er \"input\", vi giver til funktionen, når vi kalder den.\n",
    "- Inde i funktionen tildeles argumenterne til **parametre**.\n",
    "- Parametrene er interne variable i funktionen, som funktionen opbevarer argumenterne i, mens den eksekverer.\n",
    "\n",
    "I eksemplet herunder har vi defineret at funktionen tager et argument, som vi tildeler til en parameter kaldet `bjarne`."
   ]
  },
  {
   "cell_type": "code",
   "execution_count": 43,
   "metadata": {
    "slideshow": {
     "slide_type": "fragment"
    }
   },
   "outputs": [],
   "source": [
    "def print_to_gange(bjarne):\n",
    "    print(bjarne)\n",
    "    print(bjarne)"
   ]
  },
  {
   "cell_type": "markdown",
   "metadata": {
    "slideshow": {
     "slide_type": "fragment"
    }
   },
   "source": [
    "Lad os prøve at bruge den, ved at give et argument til funktionen:"
   ]
  },
  {
   "cell_type": "code",
   "execution_count": 44,
   "metadata": {
    "slideshow": {
     "slide_type": "-"
    }
   },
   "outputs": [
    {
     "name": "stdout",
     "output_type": "stream",
     "text": [
      "selleri\n",
      "selleri\n"
     ]
    }
   ],
   "source": [
    "print_to_gange('selleri')"
   ]
  },
  {
   "cell_type": "markdown",
   "metadata": {
    "slideshow": {
     "slide_type": "subslide"
    }
   },
   "source": [
    "Vi kan lave *komposition* for argumenter til funktioner, ved at indsætte et udtryk som argument:"
   ]
  },
  {
   "cell_type": "code",
   "execution_count": 45,
   "metadata": {
    "slideshow": {
     "slide_type": "-"
    }
   },
   "outputs": [
    {
     "name": "stdout",
     "output_type": "stream",
     "text": [
      "rødbedesaft\n",
      "rødbedesaft\n"
     ]
    }
   ],
   "source": [
    "print_to_gange('rødbede' + 'saft')"
   ]
  },
  {
   "cell_type": "code",
   "execution_count": 47,
   "metadata": {
    "slideshow": {
     "slide_type": "fragment"
    }
   },
   "outputs": [
    {
     "name": "stdout",
     "output_type": "stream",
     "text": [
      "Skærslibervisen\n",
      "Skærslibervisen\n"
     ]
    }
   ],
   "source": [
    "sigurd = 'Skærslibervisen'\n",
    "print_to_gange(sigurd)"
   ]
  },
  {
   "cell_type": "markdown",
   "metadata": {},
   "source": [
    "Bemærk at det er ligegyldigt hvad vi kalder den variabel (`sigurd`) som er argument til funktionen (`print_to_gange`). Indeni funktionen vil argumentets værdi blive tilskrevet parameteren `bjarne`, uanset hvad."
   ]
  },
  {
   "cell_type": "markdown",
   "metadata": {},
   "source": [
    "## Opgave 5\n",
    "\n",
    "Definer en funktion med navnet `summering` der tager to argumenter og udskriver summen af disse.\n",
    "Afprøv funktionen med kommandoen `summering(2,4)`, der gerne skal udskrive `6`."
   ]
  },
  {
   "cell_type": "code",
   "execution_count": null,
   "metadata": {},
   "outputs": [],
   "source": []
  },
  {
   "cell_type": "markdown",
   "metadata": {
    "slideshow": {
     "slide_type": "subslide"
    }
   },
   "source": [
    "### Variable og parametre i funktioner er lokale\n",
    "Indeni en funktionsdefinition som den herunder, har vi tre såkaldt *lokale variable*. Det at de er lokale, betyder at de kun eksisterer indeni funktionen. Lad os først definere en funktion og prøve at kalde den:"
   ]
  },
  {
   "cell_type": "code",
   "execution_count": 54,
   "metadata": {
    "slideshow": {
     "slide_type": "-"
    }
   },
   "outputs": [],
   "source": [
    "def kat_to_gange(nummer1, nummer2):\n",
    "    kat = nummer1 + nummer2\n",
    "    print_to_gange(kat)"
   ]
  },
  {
   "cell_type": "code",
   "execution_count": 56,
   "metadata": {
    "scrolled": true,
    "slideshow": {
     "slide_type": "fragment"
    }
   },
   "outputs": [
    {
     "name": "stdout",
     "output_type": "stream",
     "text": [
      "dyt båt.\n",
      "dyt båt.\n"
     ]
    }
   ],
   "source": [
    "linje1 = 'dyt '\n",
    "linje2 = 'båt.'\n",
    "kat_to_gange(linje1, linje2)"
   ]
  },
  {
   "cell_type": "markdown",
   "metadata": {},
   "source": [
    "Lad os sige vi gerne vil udskrive værdien af parameteren `kat`:"
   ]
  },
  {
   "cell_type": "code",
   "execution_count": 59,
   "metadata": {
    "slideshow": {
     "slide_type": "fragment"
    }
   },
   "outputs": [
    {
     "ename": "NameError",
     "evalue": "name 'kat' is not defined",
     "output_type": "error",
     "traceback": [
      "\u001b[0;31m---------------------------------------------------------------------------\u001b[0m",
      "\u001b[0;31mNameError\u001b[0m                                 Traceback (most recent call last)",
      "\u001b[0;32m<ipython-input-59-a104abf8f192>\u001b[0m in \u001b[0;36m<module>\u001b[0;34m\u001b[0m\n\u001b[0;32m----> 1\u001b[0;31m \u001b[0mprint\u001b[0m\u001b[0;34m(\u001b[0m\u001b[0mkat\u001b[0m\u001b[0;34m)\u001b[0m\u001b[0;34m\u001b[0m\u001b[0;34m\u001b[0m\u001b[0m\n\u001b[0m",
      "\u001b[0;31mNameError\u001b[0m: name 'kat' is not defined"
     ]
    }
   ],
   "source": [
    "print(kat)"
   ]
  },
  {
   "cell_type": "markdown",
   "metadata": {},
   "source": [
    "Her giver Python os en fejlmeddelelse og siger at `'kat'` ikke er defineret. Fejlen består i at vi forsøger at tilgå parameteren/variablen udenfor funktionen, hvilket ikke er muligt."
   ]
  },
  {
   "cell_type": "markdown",
   "metadata": {},
   "source": [
    "## Opgave 6\n",
    "Prøv at indsætte kommandoen `print(kat)` på en ny linje efter linje 2 i nedenstående:"
   ]
  },
  {
   "cell_type": "code",
   "execution_count": 64,
   "metadata": {
    "slideshow": {
     "slide_type": "-"
    }
   },
   "outputs": [
    {
     "name": "stdout",
     "output_type": "stream",
     "text": [
      "dyt båt.\n",
      "dyt båt.\n"
     ]
    }
   ],
   "source": [
    "def kat_to_gange(nummer1, nummer2):\n",
    "    kat = nummer1 + nummer2\n",
    "    print_to_gange(kat)\n",
    "    \n",
    "linje1 = 'dyt '\n",
    "linje2 = 'båt.'\n",
    "kat_to_gange(linje1, linje2)"
   ]
  },
  {
   "cell_type": "markdown",
   "metadata": {},
   "source": [
    "Nu skulle fejlen gerne være væk og `'dyt båt.'` bliver printet tre gange i stedet for kun to. "
   ]
  },
  {
   "cell_type": "markdown",
   "metadata": {
    "slideshow": {
     "slide_type": "subslide"
    }
   },
   "source": [
    "### Udbytterige funktioner og funktioner uden returværdi\n",
    "\n",
    "Blandt de funktioner, vi har set, returnerer nogle funktioner en værdi, mens andre ikke gør.\n",
    "- De funktioner, der **returnerer** en værdi, kalder vi for *fruitful functions* - her udbytterige funktioner.  \n",
    "- Funktioner, der **ikke returnerer** nogen værdi, kalder vi *void functions* - her funktioner uden returværdi."
   ]
  },
  {
   "cell_type": "markdown",
   "metadata": {
    "slideshow": {
     "slide_type": "fragment"
    }
   },
   "source": [
    "En udbytterig funktion:"
   ]
  },
  {
   "cell_type": "code",
   "execution_count": 65,
   "metadata": {
    "slideshow": {
     "slide_type": "-"
    }
   },
   "outputs": [
    {
     "data": {
      "text/plain": [
       "2.23606797749979"
      ]
     },
     "execution_count": 65,
     "metadata": {},
     "output_type": "execute_result"
    }
   ],
   "source": [
    "math.sqrt(5)"
   ]
  },
  {
   "cell_type": "markdown",
   "metadata": {
    "slideshow": {
     "slide_type": "fragment"
    }
   },
   "source": [
    "En funktion uden returværdi:"
   ]
  },
  {
   "cell_type": "code",
   "execution_count": 66,
   "metadata": {
    "slideshow": {
     "slide_type": "-"
    }
   },
   "outputs": [
    {
     "name": "stdout",
     "output_type": "stream",
     "text": [
      "Tyst falder løvet\n",
      "Efteråret tilstunder\n",
      "Regnens sagte \"dryp\"\n"
     ]
    }
   ],
   "source": [
    "print_haiku()"
   ]
  },
  {
   "cell_type": "markdown",
   "metadata": {
    "slideshow": {
     "slide_type": "subslide"
    }
   },
   "source": [
    "Men hov, hvad var det? Begge funktioner så ud som om, de returnerede noget. Hvad var forskellen så?"
   ]
  },
  {
   "cell_type": "code",
   "execution_count": 72,
   "metadata": {
    "slideshow": {
     "slide_type": "fragment"
    }
   },
   "outputs": [],
   "source": [
    "x = math.sqrt(5)"
   ]
  },
  {
   "cell_type": "code",
   "execution_count": 73,
   "metadata": {},
   "outputs": [
    {
     "name": "stdout",
     "output_type": "stream",
     "text": [
      "2.23606797749979\n"
     ]
    }
   ],
   "source": [
    "print(x)"
   ]
  },
  {
   "cell_type": "code",
   "execution_count": 68,
   "metadata": {
    "slideshow": {
     "slide_type": "fragment"
    }
   },
   "outputs": [
    {
     "name": "stdout",
     "output_type": "stream",
     "text": [
      "Tyst falder løvet\n",
      "Efteråret tilstunder\n",
      "Regnens sagte \"dryp\"\n"
     ]
    }
   ],
   "source": [
    "y = print_haiku()"
   ]
  },
  {
   "cell_type": "code",
   "execution_count": 70,
   "metadata": {
    "slideshow": {
     "slide_type": "-"
    }
   },
   "outputs": [
    {
     "name": "stdout",
     "output_type": "stream",
     "text": [
      "None\n"
     ]
    }
   ],
   "source": [
    "print(y)"
   ]
  },
  {
   "cell_type": "markdown",
   "metadata": {},
   "source": [
    "Forskellen er at `math.sqrt(5)` ikke udskriver noget til skærmen - det er først når vi aktivt udskriver `x` med print-kommandoen at vi får et output på skærmen. Derimod bliver Haiku-digtet skrevet til skærmen i det øjeblik vi kalder `print_haiku()` og `y` har værdien `None`, hvilket betyder at den ikke er tilskrevet nogen værdi."
   ]
  },
  {
   "cell_type": "markdown",
   "metadata": {
    "slideshow": {
     "slide_type": "subslide"
    }
   },
   "source": [
    "## Hvorfor døje med funktioner?\n",
    "\n",
    "- Når vi definerer en funktion, får vi mulighed for at gruppere en samling funktionalitet under ét navn (**abstraktion**), som vi så kan bruge i stedet for alle disse linjer kode, der hvor funktionaliteten skal bruges. Det gør programmet lettere at læse og fejlfinde.\n",
    "- Ved at inddele et langt program i flere funktioner, kan man fejlfinde programmet én funktion ad gangen (et princip vi i øvrigt kender som *unit testing*) og herefter samle dem til et korrekt fungerende program.\n",
    "- Veldesignede funktioner kan ofte være nyttige i flere forskellige programmer. Når man først har skrevet og debugget den ét sted, kan man genbruge den i andre programmer.\n",
    "- Funktioner kan være med til at gøre et program mindre ved at eliminere gentaget kode. Hvis der senere er brug for at rette i funktionaliteten, behøver man kun gøre det ét sted."
   ]
  },
  {
   "cell_type": "markdown",
   "metadata": {},
   "source": [
    "## Opgave 7\n",
    "I kode-eksemplet herunder er der en gentagelse af funktionalitet i linjerne 3-5 og 10-12. Eleminér det gentagne kode ved at lave en funktion der står for at printe overskriftsboksen. Funktionen skal tage et argument som er den tekst der skal stå i overskriften. Lav den forbedrede udgave i den tomme celle under kodeeksemplet."
   ]
  },
  {
   "cell_type": "code",
   "execution_count": 5,
   "metadata": {},
   "outputs": [
    {
     "name": "stdout",
     "output_type": "stream",
     "text": [
      "*******************\n",
      "*  Ingredienser   *\n",
      "*******************\n",
      "Gær, vand og mel\n",
      "\n",
      "*******************\n",
      "*  Fremgangsmåde  *\n",
      "*******************\n",
      "Opløs gær i vandet og tilsæt melet. Ælt og bag i ovnen.\n"
     ]
    }
   ],
   "source": [
    "laengde = 15\n",
    "\n",
    "print('*'*(laengde+4))\n",
    "print('* ' + ' Ingredienser  ' + ' *')\n",
    "print('*'*(laengde+4))\n",
    "\n",
    "print('Gær, vand og mel')\n",
    "print('')\n",
    "\n",
    "print('*'*(laengde+4))\n",
    "print('* ' + ' Fremgangsmåde ' + ' *')\n",
    "print('*'*(laengde+4))\n",
    "\n",
    "print('Opløs gær i vandet og tilsæt melet. Ælt og bag i ovnen.')"
   ]
  },
  {
   "cell_type": "code",
   "execution_count": null,
   "metadata": {},
   "outputs": [],
   "source": []
  },
  {
   "cell_type": "markdown",
   "metadata": {},
   "source": [
    "## Docstrings\n",
    "Når man laver sine egne funktioner, er det god skik at lave en såkaldt *Docstring* der forklarer formålet med funktionen. \n",
    "### Blok-kommentar\n",
    "\n",
    "Ovenfor lærte vi at lave kommentarer på en enkelt linje vha. `#`. I Python kan vi lave kommentarer der strækker sig over flere linjer. Man både starter og slutter en blok-kommentar med tre anførselstegn `\"\"\"`. Et eksempel:"
   ]
  },
  {
   "cell_type": "code",
   "execution_count": 95,
   "metadata": {},
   "outputs": [
    {
     "name": "stdout",
     "output_type": "stream",
     "text": [
      "før\n",
      "efter\n"
     ]
    }
   ],
   "source": [
    "print('før')\n",
    "\"\"\"\n",
    "Dette er en blok-kommentar som består af flere linjer.\n",
    "Anden linje.\n",
    "Tredje linje.\n",
    "\"\"\"\n",
    "print('efter')"
   ]
  },
  {
   "cell_type": "markdown",
   "metadata": {},
   "source": [
    "## Docstring\n",
    "En Docstring er en blok-kommentar som starter på den allerførste linje i en funktion. Hvis blok-kommentaren står et andet sted i koden er det ikke en Docstring. "
   ]
  },
  {
   "cell_type": "code",
   "execution_count": 1,
   "metadata": {},
   "outputs": [
    {
     "name": "stdout",
     "output_type": "stream",
     "text": [
      "1.4142135623730951\n"
     ]
    }
   ],
   "source": [
    "def afstand(x1,y1,x2,y2):\n",
    "    \"\"\"\n",
    "    Udregner den kartesiske afstand mellem punkterne (x1,y1) og (x2,y2)\n",
    "    \"\"\"\n",
    "    print(((x1-x2)**2 + (y1-y2)**2)**(1/2))\n",
    "\n",
    "afstand(1,1,2,2)"
   ]
  },
  {
   "cell_type": "markdown",
   "metadata": {},
   "source": [
    "Udover at det kan være nyttigt med en beskrivelse af funktionen, har Docstring flere smarte egenskaber såsom automatiseret test og automatisk inklusion i Pythons hjælp. De automatiserede tests kommer vi tilbage til i senere lektioner, men herunder kan vi se hvordan vi kan bruge Pythons indbyggede `help`-funktion til at finde ud af hvad funktionen gør og hvad argumenterne repræsenterer."
   ]
  },
  {
   "cell_type": "code",
   "execution_count": 108,
   "metadata": {},
   "outputs": [
    {
     "name": "stdout",
     "output_type": "stream",
     "text": [
      "Help on function afstand in module __main__:\n",
      "\n",
      "afstand(x1, y1, x2, y2)\n",
      "    Udregner den kartesiske afstand mellem punkterne (x1,y1) og (x2,y2)\n",
      "\n"
     ]
    }
   ],
   "source": [
    "help(afstand)"
   ]
  },
  {
   "cell_type": "markdown",
   "metadata": {},
   "source": [
    "## Opgave 8\n",
    "Lav en funktion der udregner arealet af en cirkel ud fra en given radius, og lav en passende Docstring. Tjek at du kan hente beskrivelsen ud vha. `help`-funktionen."
   ]
  },
  {
   "cell_type": "code",
   "execution_count": null,
   "metadata": {},
   "outputs": [],
   "source": [
    "# Definer funktionen her"
   ]
  },
  {
   "cell_type": "code",
   "execution_count": null,
   "metadata": {},
   "outputs": [],
   "source": [
    "# Kald help her"
   ]
  },
  {
   "cell_type": "markdown",
   "metadata": {},
   "source": [
    "## For-løkker\n",
    "Vi bruger typisk en `for`-løkke når vi gerne vil have den samme kode udført et antal gange eller for flere elementer i en liste.\n",
    "\n",
    "Lad os starte med et simpelt eksempel:"
   ]
  },
  {
   "cell_type": "code",
   "execution_count": 112,
   "metadata": {},
   "outputs": [
    {
     "name": "stdout",
     "output_type": "stream",
     "text": [
      "gør noget\n",
      "gør noget\n",
      "gør noget\n",
      "gør noget\n"
     ]
    }
   ],
   "source": [
    "for i in range(4):\n",
    "    print('gør noget')"
   ]
  },
  {
   "cell_type": "markdown",
   "metadata": {},
   "source": [
    "Her kan vi se at kommandoen i linje 2 er blevet udført 4 gange. Vi kan styre antallet af gentagelser ved at ændre tallet i `range(4)`. Ændrer vi til eksempelvis `range(2)` får vi i stedet to gentagelser.\n",
    "\n",
    "Udover at gentage en blok kode, kan vi i en `for`-løkke også få indekset af den pågældende iteration oplyst igennem tælle-variablen, som vi her har kaldt `i`. Lad os sige at vi gerne vil udskrive tallene fra 1-10, det kunne vi umiddelbart tro skulle gøres sådan:"
   ]
  },
  {
   "cell_type": "code",
   "execution_count": 113,
   "metadata": {},
   "outputs": [
    {
     "name": "stdout",
     "output_type": "stream",
     "text": [
      "0\n",
      "1\n",
      "2\n",
      "3\n",
      "4\n",
      "5\n",
      "6\n",
      "7\n",
      "8\n",
      "9\n"
     ]
    }
   ],
   "source": [
    "for i in range(10):\n",
    "    print(i)"
   ]
  },
  {
   "cell_type": "markdown",
   "metadata": {},
   "source": [
    "Her får vi imidlertid tallene 0-9. Grunden er at Python per definition altid tæller fra 0 (ligesom mange andre programmeringssprog - dog ikke alle). Dette kommer vi tilbage til når vi skal arbejde med lister. I forhold til at få skrevet tallene 1-10 ud kan vi nemt ændre vores program ved at ændre linje 2 til `print(i+1)`."
   ]
  },
  {
   "cell_type": "markdown",
   "metadata": {},
   "source": [
    "## Opgave 9\n",
    "Brug en `for`-løkke til at udskrive de første 20 tal i 7-tabellen."
   ]
  },
  {
   "cell_type": "code",
   "execution_count": null,
   "metadata": {},
   "outputs": [],
   "source": []
  },
  {
   "cell_type": "markdown",
   "metadata": {},
   "source": [
    "## `range`-funktionen\n",
    "Ovenfor har vi kun givet et enkelt argument til `range`-funktionen. Den kan dog tage flere argumenter for at styre dens opførsel. Hvis vi skriver `help(range)` kan vi se hvordan vi bruger den. Herunder ses de første linjer fra hjælpen:"
   ]
  },
  {
   "cell_type": "raw",
   "metadata": {},
   "source": [
    "Help on class range in module builtins:\n",
    "\n",
    "class range(object)\n",
    " |  range(stop) -> range object\n",
    " |  range(start, stop[, step]) -> range object\n",
    " |  \n",
    " |  Return an object that produces a sequence of integers from start (inclusive)\n",
    " |  to stop (exclusive) by step.  range(i, j) produces i, i+1, i+2, ..., j-1.\n",
    " |  start defaults to 0, and stop is omitted!  range(4) produces 0, 1, 2, 3.\n",
    " |  These are exactly the valid indices for a list of 4 elements.\n",
    " |  When step is given, it specifies the increment (or decrement)."
   ]
  },
  {
   "cell_type": "markdown",
   "metadata": {},
   "source": [
    "Hvis vi giver 2 argumenter, bliver de opfattet som hhv. start og stop, hvor stop ikke er inkluderet."
   ]
  },
  {
   "cell_type": "markdown",
   "metadata": {},
   "source": [
    "## Opgave 10\n",
    "Indsæt de rigtige argumenter til `range`-funktionen herunder så koden udskriver tallene 1-5."
   ]
  },
  {
   "cell_type": "code",
   "execution_count": null,
   "metadata": {},
   "outputs": [],
   "source": [
    "for i in range():\n",
    "    print(i)"
   ]
  },
  {
   "cell_type": "markdown",
   "metadata": {},
   "source": [
    "Hvis vi giver 3 argumenter, opfattes de som hhv. start, stop og skridtstørrelse. Dvs. vi kan udskrive 7-tabellen op til 100 på følgende måde:"
   ]
  },
  {
   "cell_type": "code",
   "execution_count": 122,
   "metadata": {},
   "outputs": [
    {
     "name": "stdout",
     "output_type": "stream",
     "text": [
      "7\n",
      "14\n",
      "21\n",
      "28\n",
      "35\n",
      "42\n",
      "49\n",
      "56\n",
      "63\n",
      "70\n",
      "77\n",
      "84\n",
      "91\n",
      "98\n"
     ]
    }
   ],
   "source": [
    "for i in range(7,100,7):\n",
    "    print(i)"
   ]
  },
  {
   "cell_type": "markdown",
   "metadata": {},
   "source": [
    "# `for`-løkker og lister\n",
    "Endelig kan `for`-løkker også anvendes til at arbejde på lister. Vi kommer tilbage til lister senere, men det er på sin plads at vise hvordan dette fungerer. Lad os antage at vi har en liste med temperatur-målinger i grader Celcius, som vi gerne vil have udskrevet i grader Fahrenheit i stedet. Formlen for denne konvertering er: \n",
    "$$f = (c \\cdot 9/5) + 32$$\n",
    "\n",
    "Herunder definerer vi først en liste `C` der indeholder nogle fiktive målinger og derefter bruger vi en `for`-løkke til at gå igennem elementerne, og for hver lave konvertering til F og udskrive en passende tekst."
   ]
  },
  {
   "cell_type": "code",
   "execution_count": 128,
   "metadata": {},
   "outputs": [
    {
     "name": "stdout",
     "output_type": "stream",
     "text": [
      "21.6 grader C er 70.88 grader F\n",
      "22.3 grader C er 72.14 grader F\n",
      "23.1 grader C er 73.58 grader F\n",
      "22.8 grader C er 73.04 grader F\n",
      "21.9 grader C er 71.42 grader F\n"
     ]
    }
   ],
   "source": [
    "C = [21.6, 22.3, 23.1, 22.8, 21.9]\n",
    "\n",
    "for c in C:\n",
    "    f = (c*9/5) + 32\n",
    "    print(f'{c} grader C er {f} grader F')"
   ]
  },
  {
   "cell_type": "markdown",
   "metadata": {},
   "source": [
    "Bemærk hvordan `c` for hver iteration tildeles en ny værdi fra listen `C`."
   ]
  },
  {
   "cell_type": "markdown",
   "metadata": {},
   "source": [
    "# Indlejrede `for`-løkker\n",
    "Ofte arbejder man med problemer hvor det ikke er nok med én `for`-løkke og i disse tilfælde bruger man indlejrede løkker. Dvs. én `for`-løkke optræder inden i en anden. Her er et eksempel hvor tællevariablen fra den yderste løkke bruges som startværdi til `range` i den inderste løkke."
   ]
  },
  {
   "cell_type": "code",
   "execution_count": 2,
   "metadata": {},
   "outputs": [
    {
     "name": "stdout",
     "output_type": "stream",
     "text": [
      " 0 1 2 3 4\n",
      " 1 2 3 4\n",
      " 2 3 4\n",
      " 3 4\n",
      " 4\n"
     ]
    }
   ],
   "source": [
    "for i in range(5):\n",
    "    line = ''\n",
    "    for j in range(i,5):\n",
    "        line = line + ' ' + str(j)\n",
    "    print(line)"
   ]
  },
  {
   "cell_type": "markdown",
   "metadata": {},
   "source": [
    "# Part 3"
   ]
  },
  {
   "cell_type": "markdown",
   "metadata": {
    "slideshow": {
     "slide_type": "slide"
    }
   },
   "source": [
    "# Conditionals and recursion"
   ]
  },
  {
   "cell_type": "markdown",
   "metadata": {
    "slideshow": {
     "slide_type": "fragment"
    }
   },
   "source": [
    "Primary focus is `if` statement"
   ]
  },
  {
   "cell_type": "markdown",
   "metadata": {
    "slideshow": {
     "slide_type": "fragment"
    }
   },
   "source": [
    "Let's first introduce two new operators:\n",
    "- floor division\n",
    "- Modulus"
   ]
  },
  {
   "cell_type": "markdown",
   "metadata": {
    "slideshow": {
     "slide_type": "subslide"
    }
   },
   "source": [
    "## Division vs. floor division"
   ]
  },
  {
   "cell_type": "markdown",
   "metadata": {
    "slideshow": {
     "slide_type": "fragment"
    }
   },
   "source": [
    "Normal division is `/`. Example:"
   ]
  },
  {
   "cell_type": "code",
   "execution_count": 59,
   "metadata": {
    "slideshow": {
     "slide_type": "fragment"
    }
   },
   "outputs": [
    {
     "data": {
      "text/plain": [
       "1.75"
      ]
     },
     "execution_count": 59,
     "metadata": {},
     "output_type": "execute_result"
    }
   ],
   "source": [
    "minutes = 105\n",
    "hours = minutes/60\n",
    "hours"
   ]
  },
  {
   "cell_type": "markdown",
   "metadata": {
    "slideshow": {
     "slide_type": "fragment"
    }
   },
   "source": [
    "Floor division is `//`. Example:"
   ]
  },
  {
   "cell_type": "code",
   "execution_count": 60,
   "metadata": {
    "slideshow": {
     "slide_type": "fragment"
    }
   },
   "outputs": [
    {
     "data": {
      "text/plain": [
       "1"
      ]
     },
     "execution_count": 60,
     "metadata": {},
     "output_type": "execute_result"
    }
   ],
   "source": [
    "minutes = 105\n",
    "hours = minutes//60\n",
    "hours"
   ]
  },
  {
   "cell_type": "markdown",
   "metadata": {
    "slideshow": {
     "slide_type": "subslide"
    }
   },
   "source": [
    "What happened?\n",
    "Floor division results in only integer part of division by rounding down. Equivalent to $\\lfloor \\frac{minutes}{60} \\rfloor$:"
   ]
  },
  {
   "cell_type": "code",
   "execution_count": 61,
   "metadata": {
    "slideshow": {
     "slide_type": "fragment"
    }
   },
   "outputs": [
    {
     "data": {
      "text/plain": [
       "1"
      ]
     },
     "execution_count": 61,
     "metadata": {},
     "output_type": "execute_result"
    }
   ],
   "source": [
    "minutes = 105\n",
    "hours = minutes/60\n",
    "import math\n",
    "hours = math.floor(hours)\n",
    "hours"
   ]
  },
  {
   "cell_type": "markdown",
   "metadata": {
    "slideshow": {
     "slide_type": "subslide"
    }
   },
   "source": [
    "If we want to get the remainder, we can either subtract the integer part and convert to minutes:"
   ]
  },
  {
   "cell_type": "code",
   "execution_count": 62,
   "metadata": {
    "slideshow": {
     "slide_type": "fragment"
    }
   },
   "outputs": [
    {
     "data": {
      "text/plain": [
       "45"
      ]
     },
     "execution_count": 62,
     "metadata": {},
     "output_type": "execute_result"
    }
   ],
   "source": [
    "remainder = minutes - hours * 60\n",
    "remainder"
   ]
  },
  {
   "cell_type": "markdown",
   "metadata": {
    "slideshow": {
     "slide_type": "fragment"
    }
   },
   "source": [
    "Alternatively, we can use the modulus operator `%`. Example:"
   ]
  },
  {
   "cell_type": "code",
   "execution_count": 63,
   "metadata": {
    "slideshow": {
     "slide_type": "fragment"
    }
   },
   "outputs": [
    {
     "data": {
      "text/plain": [
       "45"
      ]
     },
     "execution_count": 63,
     "metadata": {},
     "output_type": "execute_result"
    }
   ],
   "source": [
    "remainder = minutes % 60\n",
    "remainder"
   ]
  },
  {
   "cell_type": "markdown",
   "metadata": {
    "slideshow": {
     "slide_type": "subslide"
    }
   },
   "source": [
    "Modulus is very useful in many situations, for example you can check whether one number is divisible by another:"
   ]
  },
  {
   "cell_type": "code",
   "execution_count": 64,
   "metadata": {
    "slideshow": {
     "slide_type": "fragment"
    }
   },
   "outputs": [
    {
     "data": {
      "text/plain": [
       "2"
      ]
     },
     "execution_count": 64,
     "metadata": {},
     "output_type": "execute_result"
    }
   ],
   "source": [
    "119%13"
   ]
  },
  {
   "cell_type": "code",
   "execution_count": 65,
   "metadata": {},
   "outputs": [
    {
     "data": {
      "text/plain": [
       "9"
      ]
     },
     "execution_count": 65,
     "metadata": {},
     "output_type": "execute_result"
    }
   ],
   "source": [
    "119//13"
   ]
  },
  {
   "cell_type": "code",
   "execution_count": 66,
   "metadata": {},
   "outputs": [
    {
     "data": {
      "text/plain": [
       "117"
      ]
     },
     "execution_count": 66,
     "metadata": {},
     "output_type": "execute_result"
    }
   ],
   "source": [
    "9*13"
   ]
  },
  {
   "cell_type": "markdown",
   "metadata": {
    "slideshow": {
     "slide_type": "fragment"
    }
   },
   "source": [
    "There is a non-zero remainder after doing division, meaning that $119$ is not divisible by $13$."
   ]
  },
  {
   "cell_type": "code",
   "execution_count": 67,
   "metadata": {
    "slideshow": {
     "slide_type": "fragment"
    }
   },
   "outputs": [
    {
     "data": {
      "text/plain": [
       "0"
      ]
     },
     "execution_count": 67,
     "metadata": {},
     "output_type": "execute_result"
    }
   ],
   "source": [
    "119%17"
   ]
  },
  {
   "cell_type": "markdown",
   "metadata": {
    "slideshow": {
     "slide_type": "fragment"
    }
   },
   "source": [
    "The remainder is zero, meaning that $119$ is indeed divisible by $17$, specifically $7\\cdot17=119$."
   ]
  },
  {
   "cell_type": "markdown",
   "metadata": {},
   "source": [
    "## Exercise 1\n",
    "Calculate how many hours and minutes are in 427 minutes. Try the following two approaches:\n",
    "1. Use only floor division `//` and basic arithmetic operators (+,-,*,/).\n",
    "2. Use only modules and basic arithmetic operators.\n",
    "\n",
    "In both cases, print out a suitable text explaining the result. E.g. \"X minutes is Y hours and Z minutes.\""
   ]
  },
  {
   "cell_type": "code",
   "execution_count": null,
   "metadata": {},
   "outputs": [],
   "source": []
  },
  {
   "cell_type": "markdown",
   "metadata": {
    "slideshow": {
     "slide_type": "slide"
    }
   },
   "source": [
    "## Boolean expressions\n",
    "\n",
    "These are expressions that are either `True` or `False`. Examples:"
   ]
  },
  {
   "cell_type": "code",
   "execution_count": 68,
   "metadata": {
    "slideshow": {
     "slide_type": "fragment"
    }
   },
   "outputs": [
    {
     "data": {
      "text/plain": [
       "True"
      ]
     },
     "execution_count": 68,
     "metadata": {},
     "output_type": "execute_result"
    }
   ],
   "source": [
    "5 == 5"
   ]
  },
  {
   "cell_type": "code",
   "execution_count": 69,
   "metadata": {
    "slideshow": {
     "slide_type": "fragment"
    }
   },
   "outputs": [
    {
     "data": {
      "text/plain": [
       "False"
      ]
     },
     "execution_count": 69,
     "metadata": {},
     "output_type": "execute_result"
    }
   ],
   "source": [
    "5 == 6"
   ]
  },
  {
   "cell_type": "markdown",
   "metadata": {
    "slideshow": {
     "slide_type": "subslide"
    }
   },
   "source": [
    "`True` and `False` are special values - not strings (notice that there is no `\"` or `'`). Specifically, they are of type `bool`, which is a data type with two possible values, `True` or `False`."
   ]
  },
  {
   "cell_type": "code",
   "execution_count": 70,
   "metadata": {
    "slideshow": {
     "slide_type": "fragment"
    }
   },
   "outputs": [
    {
     "data": {
      "text/plain": [
       "bool"
      ]
     },
     "execution_count": 70,
     "metadata": {},
     "output_type": "execute_result"
    }
   ],
   "source": [
    "type(True)"
   ]
  },
  {
   "cell_type": "code",
   "execution_count": 71,
   "metadata": {
    "slideshow": {
     "slide_type": "fragment"
    }
   },
   "outputs": [
    {
     "data": {
      "text/plain": [
       "bool"
      ]
     },
     "execution_count": 71,
     "metadata": {},
     "output_type": "execute_result"
    }
   ],
   "source": [
    "type(False)"
   ]
  },
  {
   "cell_type": "markdown",
   "metadata": {
    "slideshow": {
     "slide_type": "subslide"
    }
   },
   "source": [
    "`==` means equals and is used to test for equality. (Notice that it is different from the assignment equal sign `=` we have used so far.)\n",
    "\n",
    "It is one of the relational operators. The others are:"
   ]
  },
  {
   "cell_type": "markdown",
   "metadata": {
    "slideshow": {
     "slide_type": "-"
    }
   },
   "source": [
    "- `x!=y`:   $x$ is not equal to $y$\n",
    "- `x>y`:    $x$ is greater than $y$\n",
    "- `x<y`:    $x$ is less than $y$\n",
    "- `x>=y`:   $x$ is greater than or equal to $y$\n",
    "- `x<=y`:   $x$ is less than or equal to $y$"
   ]
  },
  {
   "cell_type": "markdown",
   "metadata": {},
   "source": [
    "## Exercise 2\n",
    "Check which of the following expressions are true:\n",
    "1. $21/7 \\geq \\pi$ \n",
    "2. $\\frac{116}{27} < \\frac{13}{3}$\n",
    "3. The length of your full name is larger than your age"
   ]
  },
  {
   "cell_type": "code",
   "execution_count": null,
   "metadata": {},
   "outputs": [],
   "source": []
  },
  {
   "cell_type": "code",
   "execution_count": null,
   "metadata": {},
   "outputs": [],
   "source": []
  },
  {
   "cell_type": "code",
   "execution_count": null,
   "metadata": {},
   "outputs": [],
   "source": []
  },
  {
   "cell_type": "markdown",
   "metadata": {
    "slideshow": {
     "slide_type": "subslide"
    }
   },
   "source": [
    "## Logical operators"
   ]
  },
  {
   "cell_type": "markdown",
   "metadata": {
    "slideshow": {
     "slide_type": "-"
    }
   },
   "source": [
    "`and`, `or`, and `not`\n",
    "\n",
    "Same meaning as in English."
   ]
  },
  {
   "cell_type": "markdown",
   "metadata": {
    "slideshow": {
     "slide_type": "fragment"
    }
   },
   "source": [
    "Let's assume that we require the weight of an item to be between 1 and 5 kg."
   ]
  },
  {
   "cell_type": "code",
   "execution_count": 72,
   "metadata": {
    "slideshow": {
     "slide_type": "-"
    }
   },
   "outputs": [
    {
     "data": {
      "text/plain": [
       "True"
      ]
     },
     "execution_count": 72,
     "metadata": {},
     "output_type": "execute_result"
    }
   ],
   "source": [
    "weight = 1\n",
    "weight >= 1 and weight < 5"
   ]
  },
  {
   "cell_type": "markdown",
   "metadata": {
    "slideshow": {
     "slide_type": "subslide"
    }
   },
   "source": [
    "Python accepts any non-zero value as `True`:"
   ]
  },
  {
   "cell_type": "code",
   "execution_count": 73,
   "metadata": {
    "slideshow": {
     "slide_type": "fragment"
    }
   },
   "outputs": [
    {
     "data": {
      "text/plain": [
       "True"
      ]
     },
     "execution_count": 73,
     "metadata": {},
     "output_type": "execute_result"
    }
   ],
   "source": [
    "17 and True"
   ]
  },
  {
   "cell_type": "markdown",
   "metadata": {
    "slideshow": {
     "slide_type": "fragment"
    }
   },
   "source": [
    "It works, but avoid confusing code."
   ]
  },
  {
   "cell_type": "markdown",
   "metadata": {
    "slideshow": {
     "slide_type": "subslide"
    }
   },
   "source": [
    "## Conditional execution"
   ]
  },
  {
   "cell_type": "markdown",
   "metadata": {
    "slideshow": {
     "slide_type": "fragment"
    }
   },
   "source": [
    "Very often we need to make the program flow depend on some conditions. An example for video streaming service could be:\n",
    "- For age under 18 years, show safe content\n",
    "- For age 18 or above, show all content"
   ]
  },
  {
   "cell_type": "code",
   "execution_count": 20,
   "metadata": {
    "slideshow": {
     "slide_type": "fragment"
    }
   },
   "outputs": [
    {
     "name": "stdout",
     "output_type": "stream",
     "text": [
      "Safe content only\n"
     ]
    }
   ],
   "source": [
    "age = 10\n",
    "if age < 18:\n",
    "    print('Safe content only')\n",
    "if age >= 18:\n",
    "    print('All content')"
   ]
  },
  {
   "cell_type": "markdown",
   "metadata": {
    "slideshow": {
     "slide_type": "fragment"
    }
   },
   "source": [
    "However, it is unnecessary to evaluate the second condition if the first is true, since they are mutually exclusive."
   ]
  },
  {
   "cell_type": "markdown",
   "metadata": {},
   "source": [
    "### Tip:\n",
    "There is no limit on the number of statements that can appear in the body, but there has to\n",
    "be at least one. Occasionally, it is useful to have a body with no statements (usually as a\n",
    "place keeper for code you haven’t written yet). In that case, you can use the `pass` statement,\n",
    "which does nothing."
   ]
  },
  {
   "cell_type": "code",
   "execution_count": 22,
   "metadata": {},
   "outputs": [],
   "source": [
    "if age < 0:\n",
    "    pass"
   ]
  },
  {
   "cell_type": "markdown",
   "metadata": {},
   "source": [
    "### Exercise 3\n",
    "\n",
    "Let the variable `fuel` denote the amount of remaining fuel in the fuel tank of a car. Implement a conditional code below that prints out a warning that fuel is low when the value of `fuel` is lower than 5 liters. Try assigning different values (4,5, and 6) to `fuel` to test that it works as intended. Only `fuel = 4` should produce a warning.\n"
   ]
  },
  {
   "cell_type": "code",
   "execution_count": 23,
   "metadata": {},
   "outputs": [],
   "source": [
    "fuel = 6\n",
    "\n",
    "# Implement conditional code below\n"
   ]
  },
  {
   "cell_type": "markdown",
   "metadata": {
    "slideshow": {
     "slide_type": "subslide"
    }
   },
   "source": [
    "## Alternative execution"
   ]
  },
  {
   "cell_type": "markdown",
   "metadata": {
    "slideshow": {
     "slide_type": "fragment"
    }
   },
   "source": [
    "Another way to implement the age restriction is using the `else` keyword:"
   ]
  },
  {
   "cell_type": "code",
   "execution_count": 24,
   "metadata": {
    "slideshow": {
     "slide_type": "-"
    }
   },
   "outputs": [
    {
     "name": "stdout",
     "output_type": "stream",
     "text": [
      "All content\n"
     ]
    }
   ],
   "source": [
    "age = 18\n",
    "if age < 18:\n",
    "    print('Safe content only')\n",
    "else:\n",
    "    print('All content')"
   ]
  },
  {
   "cell_type": "markdown",
   "metadata": {},
   "source": [
    "In this case, if we have to change the age limit in the condition, we only needto change it in one place. In the code above that uses two `if`-statements, we must remember to change the number in both places."
   ]
  },
  {
   "cell_type": "markdown",
   "metadata": {
    "slideshow": {
     "slide_type": "subslide"
    }
   },
   "source": [
    "## Chained conditionals\n",
    "In case we have more than two possibilities, we can use `elif` (else if) to create branches, where only the branch whose condition is `True` is executed:"
   ]
  },
  {
   "cell_type": "code",
   "execution_count": 76,
   "metadata": {
    "slideshow": {
     "slide_type": "fragment"
    }
   },
   "outputs": [
    {
     "name": "stdout",
     "output_type": "stream",
     "text": [
      "Safe content only\n"
     ]
    }
   ],
   "source": [
    "age = 10\n",
    "if age < 8:\n",
    "    print(\"Kids' content only\")\n",
    "elif age < 18:\n",
    "    print('Safe content only')\n",
    "else:\n",
    "    print('All content')"
   ]
  },
  {
   "cell_type": "markdown",
   "metadata": {
    "slideshow": {
     "slide_type": "fragment"
    }
   },
   "source": [
    "Conditions are checked in order, i.e. top to bottom. When a condition is `True` Python evaluates the code inside and exits the branch."
   ]
  },
  {
   "cell_type": "markdown",
   "metadata": {},
   "source": [
    "## Exercise 4\n",
    "Copy paste your solution from exercise 3 into the cell below and extend it to give an additional critical warning when the fuel level is 1 liter or below. Use the `elif` statement to achieve this. \n",
    "\n",
    "Test you code with `fuel` values 0.5, 1, 4, 5, and 6. Only values 0.5 and 1 should give the critical warning and only the value 4 should give the low fuel warning.\n",
    "\n",
    "Notice the importance of the ordering of conditions. Try swapping the conditions for low fuel warning and critical warning and see which result you get. (This may also help you to get the desired behavior if it did not work in the first try.)"
   ]
  },
  {
   "cell_type": "code",
   "execution_count": null,
   "metadata": {},
   "outputs": [],
   "source": []
  },
  {
   "cell_type": "markdown",
   "metadata": {
    "slideshow": {
     "slide_type": "subslide"
    }
   },
   "source": [
    "## Nested conditionals\n",
    "We can also put conditions in another conditional branch:"
   ]
  },
  {
   "cell_type": "code",
   "execution_count": 26,
   "metadata": {
    "slideshow": {
     "slide_type": "fragment"
    }
   },
   "outputs": [
    {
     "name": "stdout",
     "output_type": "stream",
     "text": [
      "Kids' content only\n"
     ]
    }
   ],
   "source": [
    "age = 3\n",
    "paid = True\n",
    "if paid:\n",
    "    if age < 8:\n",
    "        print(\"Kids' content only\")\n",
    "    elif age < 18:\n",
    "        print('Safe content only')\n",
    "    else:\n",
    "        print('All content')\n",
    "else:\n",
    "    print('No subscription')"
   ]
  },
  {
   "cell_type": "markdown",
   "metadata": {},
   "source": [
    "In this case, the conditions on `age` will only be considered if the subscription has been paid.\n",
    "\n",
    "Try changing the value of `paid` (`True` or `False`) and give different values for `age` in the code above to achieve the different possible outputs."
   ]
  },
  {
   "cell_type": "markdown",
   "metadata": {},
   "source": [
    "## Double conditionals"
   ]
  },
  {
   "cell_type": "markdown",
   "metadata": {
    "slideshow": {
     "slide_type": "subslide"
    }
   },
   "source": [
    "Double conditional for a variable in the same statement is possible in Python:"
   ]
  },
  {
   "cell_type": "code",
   "execution_count": 30,
   "metadata": {},
   "outputs": [
    {
     "name": "stdout",
     "output_type": "stream",
     "text": [
      "Safe content only\n"
     ]
    }
   ],
   "source": [
    "age = 10\n",
    "if 8 < age < 18:\n",
    "    print(\"Safe content only\")"
   ]
  },
  {
   "cell_type": "markdown",
   "metadata": {},
   "source": [
    "## Exercise 5\n",
    "\n",
    "Re-implement the fuel tank example using a double conditional for low fuel warning in the 1 to 5 liter interval and an `elif`-statement for the critical level."
   ]
  },
  {
   "cell_type": "code",
   "execution_count": null,
   "metadata": {},
   "outputs": [],
   "source": []
  },
  {
   "cell_type": "markdown",
   "metadata": {
    "slideshow": {
     "slide_type": "subslide"
    }
   },
   "source": [
    "## Keyboard input\n",
    "\n",
    "It is possible to get input from a user with the `input()` function. Try running the following cells:"
   ]
  },
  {
   "cell_type": "code",
   "execution_count": null,
   "metadata": {
    "slideshow": {
     "slide_type": "fragment"
    }
   },
   "outputs": [],
   "source": [
    "name = input('What is your name?\\n')\n",
    "print(name)"
   ]
  },
  {
   "cell_type": "code",
   "execution_count": null,
   "metadata": {
    "slideshow": {
     "slide_type": "fragment"
    }
   },
   "outputs": [],
   "source": [
    "age_str = input('What is your age?\\n')\n",
    "age = int(age_str)\n",
    "type(age)"
   ]
  },
  {
   "cell_type": "markdown",
   "metadata": {},
   "source": [
    "## Exercise 7\n",
    "Make a program that asks the user for a name and age. If the age is below 40 years, the program shall print out the name with the suffix `Jr.` and if the age is 40 or above, it should print out the name with the suffix `Sr.`. An example for a 50 year old user is: `John Doe, Sr.`."
   ]
  },
  {
   "cell_type": "code",
   "execution_count": null,
   "metadata": {},
   "outputs": [],
   "source": [
    "name = 'John'"
   ]
  },
  {
   "cell_type": "markdown",
   "metadata": {
    "slideshow": {
     "slide_type": "slide"
    }
   },
   "source": [
    "# Fruitful functions\n",
    "\n",
    "The functions we have made so far have printed things to the screen or done computations, but they have not returned values. Such functions are called `void` functions.\n",
    "\n",
    "So-called fruitful functions return a result to the calling function.\n",
    "\n",
    "Example of a function to calculate area of circle:"
   ]
  },
  {
   "cell_type": "code",
   "execution_count": 53,
   "metadata": {
    "slideshow": {
     "slide_type": "fragment"
    }
   },
   "outputs": [],
   "source": [
    "def area(radius):\n",
    "    a = math.pi * radius**2\n",
    "    return a"
   ]
  },
  {
   "cell_type": "code",
   "execution_count": 54,
   "metadata": {
    "slideshow": {
     "slide_type": "fragment"
    }
   },
   "outputs": [
    {
     "data": {
      "text/plain": [
       "28.274333882308138"
      ]
     },
     "execution_count": 54,
     "metadata": {},
     "output_type": "execute_result"
    }
   ],
   "source": [
    "ar = area(3)\n",
    "ar"
   ]
  },
  {
   "cell_type": "markdown",
   "metadata": {},
   "source": [
    "Notice how we store the returned value from calling the `area`-function in the variable `ar`."
   ]
  },
  {
   "cell_type": "markdown",
   "metadata": {
    "slideshow": {
     "slide_type": "subslide"
    }
   },
   "source": [
    "## Return statements\n",
    "\n",
    "Return statements can appear multiple times in code, e.g. with conditionals:"
   ]
  },
  {
   "cell_type": "code",
   "execution_count": 85,
   "metadata": {
    "slideshow": {
     "slide_type": "-"
    }
   },
   "outputs": [],
   "source": [
    "def absolute_value(x):\n",
    "    if x < 0:\n",
    "        return -x\n",
    "    if x > 0:\n",
    "        return x"
   ]
  },
  {
   "cell_type": "markdown",
   "metadata": {
    "slideshow": {
     "slide_type": "fragment"
    }
   },
   "source": [
    "Is this function correct?"
   ]
  },
  {
   "cell_type": "markdown",
   "metadata": {
    "slideshow": {
     "slide_type": "fragment"
    }
   },
   "source": [
    "What if $x = 0$?"
   ]
  },
  {
   "cell_type": "markdown",
   "metadata": {
    "slideshow": {
     "slide_type": "subslide"
    }
   },
   "source": [
    "## Boolean functions\n",
    "\n",
    "A function can also return a boolean (`True` or `False`), example:"
   ]
  },
  {
   "cell_type": "code",
   "execution_count": 97,
   "metadata": {
    "slideshow": {
     "slide_type": "fragment"
    }
   },
   "outputs": [],
   "source": [
    "def is_divisible(x, y):\n",
    "    return x % y == 0"
   ]
  },
  {
   "cell_type": "code",
   "execution_count": 98,
   "metadata": {
    "slideshow": {
     "slide_type": "fragment"
    }
   },
   "outputs": [
    {
     "data": {
      "text/plain": [
       "False"
      ]
     },
     "execution_count": 98,
     "metadata": {},
     "output_type": "execute_result"
    }
   ],
   "source": [
    "is_divisible(6, 4)"
   ]
  },
  {
   "cell_type": "code",
   "execution_count": 99,
   "metadata": {
    "slideshow": {
     "slide_type": "-"
    }
   },
   "outputs": [
    {
     "data": {
      "text/plain": [
       "True"
      ]
     },
     "execution_count": 99,
     "metadata": {},
     "output_type": "execute_result"
    }
   ],
   "source": [
    "is_divisible(6, 3)"
   ]
  },
  {
   "cell_type": "markdown",
   "metadata": {},
   "source": [
    "## Now you can program anything!\n",
    "We have only covered a small subset of Python, but you might be interested to know that\n",
    "this subset is a complete programming language, which means that anything that can be\n",
    "computed can be expressed in this language. **Any program ever written could be rewritten\n",
    "using only the language features you have learned so far** (actually, you would need a few\n",
    "commands to control devices like the mouse, disks, etc., but that’s all)."
   ]
  },
  {
   "cell_type": "markdown",
   "metadata": {},
   "source": [
    "# Additional things in Python that are nice to know"
   ]
  },
  {
   "cell_type": "markdown",
   "metadata": {
    "slideshow": {
     "slide_type": "subslide"
    }
   },
   "source": [
    "# Iteration\n",
    "*The ability to run a block of statements repeatedly.*\n",
    "\n",
    "We saw above how this can be done through <b>recursion</b>, but it is not always easy to get an overview.\n",
    "\n",
    "Two common methods to implement iteration is\n",
    "- `while` loop\n",
    "- `for` loop\n",
    "\n",
    "We have looked at the `for` loop last time. Today we will present the `while` loop and study their differences."
   ]
  },
  {
   "cell_type": "markdown",
   "metadata": {
    "slideshow": {
     "slide_type": "subslide"
    }
   },
   "source": [
    "## Reassignment\n",
    "\n",
    "Before we study iteration, it is worth studying reassignment."
   ]
  },
  {
   "cell_type": "markdown",
   "metadata": {
    "slideshow": {
     "slide_type": "-"
    }
   },
   "source": [
    "It is possible to make multiple assignments to the same variable:"
   ]
  },
  {
   "cell_type": "code",
   "execution_count": 79,
   "metadata": {
    "slideshow": {
     "slide_type": "-"
    }
   },
   "outputs": [
    {
     "data": {
      "text/plain": [
       "1"
      ]
     },
     "execution_count": 79,
     "metadata": {},
     "output_type": "execute_result"
    }
   ],
   "source": [
    "x=1\n",
    "x"
   ]
  },
  {
   "cell_type": "code",
   "execution_count": 80,
   "metadata": {
    "slideshow": {
     "slide_type": "-"
    }
   },
   "outputs": [
    {
     "data": {
      "text/plain": [
       "2"
      ]
     },
     "execution_count": 80,
     "metadata": {},
     "output_type": "execute_result"
    }
   ],
   "source": [
    "x=2\n",
    "x"
   ]
  },
  {
   "cell_type": "markdown",
   "metadata": {
    "slideshow": {
     "slide_type": "-"
    }
   },
   "source": [
    "In the second assignment `x=2`, we overwrite the initial value of `x`."
   ]
  },
  {
   "cell_type": "markdown",
   "metadata": {
    "slideshow": {
     "slide_type": "subslide"
    }
   },
   "source": [
    "### Note\n",
    "\n",
    "Remember that Python uses `=` for assignment and `==` for testing equality. This is different from math, where `=` has both meanings.\n",
    "\n",
    "Example:\n",
    "If we assign the value of `a` to `b`, then the variables will be equal."
   ]
  },
  {
   "cell_type": "code",
   "execution_count": 84,
   "metadata": {
    "slideshow": {
     "slide_type": "-"
    }
   },
   "outputs": [
    {
     "data": {
      "text/plain": [
       "True"
      ]
     },
     "execution_count": 84,
     "metadata": {},
     "output_type": "execute_result"
    }
   ],
   "source": [
    "a=5\n",
    "b=a\n",
    "a==b"
   ]
  },
  {
   "cell_type": "markdown",
   "metadata": {
    "slideshow": {
     "slide_type": "fragment"
    }
   },
   "source": [
    "But if we change the value of `a`, they will no longer be equal."
   ]
  },
  {
   "cell_type": "code",
   "execution_count": 85,
   "metadata": {
    "slideshow": {
     "slide_type": "-"
    }
   },
   "outputs": [
    {
     "data": {
      "text/plain": [
       "False"
      ]
     },
     "execution_count": 85,
     "metadata": {},
     "output_type": "execute_result"
    }
   ],
   "source": [
    "a=3\n",
    "a==b"
   ]
  },
  {
   "cell_type": "markdown",
   "metadata": {},
   "source": [
    "The assignment `b=a` from above actually copies the value of `a` into `b`."
   ]
  },
  {
   "cell_type": "markdown",
   "metadata": {
    "slideshow": {
     "slide_type": "subslide"
    }
   },
   "source": [
    "## Updating variables\n",
    "\n",
    "A common kind of reassignment is an <b>update</b> where the new value of a variable depends on the old value.\n",
    "\n",
    "For example incrementing a value:"
   ]
  },
  {
   "cell_type": "code",
   "execution_count": 88,
   "metadata": {
    "slideshow": {
     "slide_type": "-"
    }
   },
   "outputs": [
    {
     "name": "stdout",
     "output_type": "stream",
     "text": [
      "2\n"
     ]
    }
   ],
   "source": [
    "x = 1 # First we need to define variable\n",
    "x = x + 1\n",
    "print(x)"
   ]
  },
  {
   "cell_type": "markdown",
   "metadata": {
    "slideshow": {
     "slide_type": "subslide"
    }
   },
   "source": [
    "Common variable updates are:\n",
    "- increment"
   ]
  },
  {
   "cell_type": "code",
   "execution_count": 94,
   "metadata": {
    "slideshow": {
     "slide_type": "-"
    }
   },
   "outputs": [],
   "source": [
    "x = x + 1\n",
    "x += 1 # Short form of increment."
   ]
  },
  {
   "cell_type": "markdown",
   "metadata": {},
   "source": [
    "- decrement"
   ]
  },
  {
   "cell_type": "code",
   "execution_count": 96,
   "metadata": {
    "slideshow": {
     "slide_type": "-"
    }
   },
   "outputs": [],
   "source": [
    "x = x - 1\n",
    "x -= 1 # Short form of decrement."
   ]
  },
  {
   "cell_type": "markdown",
   "metadata": {},
   "source": [
    "\n",
    "## Exercise 9\n",
    "\n",
    "Verify that the short-hand versions give the same result as the long form versions."
   ]
  },
  {
   "cell_type": "code",
   "execution_count": null,
   "metadata": {},
   "outputs": [],
   "source": []
  },
  {
   "cell_type": "markdown",
   "metadata": {
    "slideshow": {
     "slide_type": "subslide"
    }
   },
   "source": [
    "## The `while` statement"
   ]
  },
  {
   "cell_type": "markdown",
   "metadata": {
    "slideshow": {
     "slide_type": "-"
    }
   },
   "source": [
    "*One method to obtain iteration or repetition of a code block.*\n",
    "\n",
    "Below is an example of the `countdown` function that we studied earlier, where it was implemented using recursion:"
   ]
  },
  {
   "cell_type": "code",
   "execution_count": 97,
   "metadata": {
    "slideshow": {
     "slide_type": "-"
    }
   },
   "outputs": [
    {
     "name": "stdout",
     "output_type": "stream",
     "text": [
      "3\n",
      "2\n",
      "1\n",
      "Blastoff!\n"
     ]
    }
   ],
   "source": [
    "def countdown(n):\n",
    "    while n > 0:\n",
    "        print(n)\n",
    "        n -= 1\n",
    "    print('Blastoff!')\n",
    "    \n",
    "countdown(3)"
   ]
  },
  {
   "cell_type": "markdown",
   "metadata": {
    "slideshow": {
     "slide_type": "subslide"
    }
   },
   "source": [
    "### Elements of a while loop\n",
    "- Test boolean value of *condition*:\n",
    "- If false, exit the loop and continue with next statement (here, `after_a_while()`)\n",
    "- If condition is true, execute body of loop once (here this is statement 1, statement 2, ...)\n",
    "\n",
    "Note: The body of the while loop is everything that is indented after the `:`."
   ]
  },
  {
   "cell_type": "raw",
   "metadata": {
    "slideshow": {
     "slide_type": "-"
    }
   },
   "source": [
    "while <condition>:\n",
    "    <statement 1>\n",
    "    <statement 2>\n",
    "    ...\n",
    "    \n",
    "after_a_while()"
   ]
  },
  {
   "cell_type": "markdown",
   "metadata": {
    "slideshow": {
     "slide_type": "subslide"
    }
   },
   "source": [
    "### Loop termination\n",
    "For the `countdown` function, it is easy to see that the while loop will terminate at some point and not loop infinitely as `n` is counted down, towards the stop condition.\n",
    "\n",
    "It is not always easy to tell if a while loop will always terminate, e.g.:"
   ]
  },
  {
   "cell_type": "code",
   "execution_count": 87,
   "metadata": {
    "slideshow": {
     "slide_type": "-"
    }
   },
   "outputs": [],
   "source": [
    "def sequence(n):\n",
    "    while n != 1:\n",
    "        print(n)\n",
    "        if n % 2 == 0: # n is even\n",
    "            n=n/2 \n",
    "        else:\n",
    "            n = n*3 + 1 # n is odd"
   ]
  },
  {
   "cell_type": "markdown",
   "metadata": {
    "slideshow": {
     "slide_type": "-"
    }
   },
   "source": [
    "Q: Will the loop terminate?"
   ]
  },
  {
   "cell_type": "markdown",
   "metadata": {
    "slideshow": {
     "slide_type": "subslide"
    }
   },
   "source": [
    "Let's check:"
   ]
  },
  {
   "cell_type": "code",
   "execution_count": 96,
   "metadata": {
    "slideshow": {
     "slide_type": "-"
    }
   },
   "outputs": [
    {
     "name": "stdout",
     "output_type": "stream",
     "text": [
      "128\n",
      "64.0\n",
      "32.0\n",
      "16.0\n",
      "8.0\n",
      "4.0\n",
      "2.0\n"
     ]
    }
   ],
   "source": [
    "sequence(128)"
   ]
  },
  {
   "cell_type": "markdown",
   "metadata": {
    "slideshow": {
     "slide_type": "subslide"
    }
   },
   "source": [
    "From experiments, it seems that the program will eventually reach a number that is a power of two, and then always divide by two to finally reach 1 and terminate. \n",
    "\n",
    "Actually no one has been able to prove that it will always terminate or that there are cases where it will not. It is  an open mathematical problem called <i>Collatz' conjecture</i>."
   ]
  },
  {
   "cell_type": "markdown",
   "metadata": {
    "slideshow": {
     "slide_type": "subslide"
    }
   },
   "source": [
    "## The `break` statement\n",
    "\n",
    "Sometimes it is not possible to know when to end a loop until somewhere in the loop body. In that case it is possible to stop the loop using the `break` statement.\n",
    "\n",
    "For example, suppose you want to take input from the user until they type done. You could\n",
    "write:"
   ]
  },
  {
   "cell_type": "code",
   "execution_count": null,
   "metadata": {
    "slideshow": {
     "slide_type": "-"
    }
   },
   "outputs": [],
   "source": [
    "while True:\n",
    "    line = input('> ')\n",
    "    if line == 'done':\n",
    "        break\n",
    "    print(line)\n",
    "print('Done!')"
   ]
  },
  {
   "cell_type": "markdown",
   "metadata": {
    "slideshow": {
     "slide_type": "subslide"
    }
   },
   "source": [
    "Using `break` is a common way of writing `while` loops as you can express the stop condition affirmatively (“stop when this happens”) rather than negatively (“keep going until that happens”).\n",
    "\n",
    "However, be careful not to put `break` statements in multiple places, since the code can be very difficult to read and understand."
   ]
  },
  {
   "cell_type": "markdown",
   "metadata": {},
   "source": [
    "## Exercise 10\n",
    "Try out the program above and see how it only exits if the text typed on a line is `done`."
   ]
  },
  {
   "cell_type": "markdown",
   "metadata": {
    "slideshow": {
     "slide_type": "subslide"
    }
   },
   "source": [
    "## Loop use case: Square roots\n",
    "\n",
    "Newton's method allows to compute the square root of a number `a`.\n",
    "\n",
    "$y = \\frac{x+a/x}{2}$\n",
    "\n",
    "Let's try with numbers:"
   ]
  },
  {
   "cell_type": "code",
   "execution_count": 90,
   "metadata": {
    "slideshow": {
     "slide_type": "-"
    }
   },
   "outputs": [
    {
     "name": "stdout",
     "output_type": "stream",
     "text": [
      "2.1666666666666665\n"
     ]
    }
   ],
   "source": [
    "a = 4\n",
    "x = 3\n",
    "y = (x + a/x) / 2\n",
    "print(y)"
   ]
  },
  {
   "cell_type": "markdown",
   "metadata": {
    "slideshow": {
     "slide_type": "fragment"
    }
   },
   "source": [
    "This is close, but if we use this estimate as the new initial guess we get closer:"
   ]
  },
  {
   "cell_type": "code",
   "execution_count": 91,
   "metadata": {
    "slideshow": {
     "slide_type": "subslide"
    }
   },
   "outputs": [
    {
     "name": "stdout",
     "output_type": "stream",
     "text": [
      "2.0064102564102564\n"
     ]
    }
   ],
   "source": [
    "x = y\n",
    "y = (x + a/x) / 2\n",
    "print(y)"
   ]
  },
  {
   "cell_type": "markdown",
   "metadata": {
    "slideshow": {
     "slide_type": "-"
    }
   },
   "source": [
    "After a few more updates we get `y == 2.0` and we can stop."
   ]
  },
  {
   "cell_type": "markdown",
   "metadata": {
    "slideshow": {
     "slide_type": "subslide"
    }
   },
   "source": [
    "We can formulate this approach using a `while` statement:"
   ]
  },
  {
   "cell_type": "code",
   "execution_count": 92,
   "metadata": {
    "slideshow": {
     "slide_type": "-"
    }
   },
   "outputs": [
    {
     "name": "stdout",
     "output_type": "stream",
     "text": [
      "3\n",
      "2.1666666666666665\n",
      "2.0064102564102564\n",
      "2.0000102400262145\n",
      "2.0000000000262146\n",
      "2.0\n",
      "2.0\n"
     ]
    }
   ],
   "source": [
    "a = 4\n",
    "x = 3\n",
    "while True:\n",
    "    print(x)\n",
    "    y = (x + a/x) / 2\n",
    "    if y == x:\n",
    "        break \n",
    "    x = y\n",
    "print(y)"
   ]
  },
  {
   "cell_type": "markdown",
   "metadata": {
    "slideshow": {
     "slide_type": "subslide"
    }
   },
   "source": [
    "It is generally not a good idea to test for equality of floats `y == x`.\n",
    "\n",
    "Rather, one should define a maximum tolerated error (`epsilon`) and check if the difference between the variables is smaller than this:"
   ]
  },
  {
   "cell_type": "raw",
   "metadata": {
    "slideshow": {
     "slide_type": "-"
    }
   },
   "source": [
    "if abs(y-x) < epsilon:\n",
    "        break"
   ]
  },
  {
   "cell_type": "markdown",
   "metadata": {},
   "source": [
    "## Exercise 11:\n",
    "Extend the example of Newton's method above to test for equality using the maximim tolerated error instead of `==`."
   ]
  },
  {
   "cell_type": "code",
   "execution_count": null,
   "metadata": {},
   "outputs": [],
   "source": []
  },
  {
   "cell_type": "markdown",
   "metadata": {
    "slideshow": {
     "slide_type": "subslide"
    }
   },
   "source": [
    "## The `for` statement"
   ]
  },
  {
   "cell_type": "markdown",
   "metadata": {
    "slideshow": {
     "slide_type": "-"
    }
   },
   "source": [
    "In lecture 2 you were introduced to the `for` loop and we looked at how to repeat commands and how we can use the `range`-function to generate a counter or index variable, as in the following examples:"
   ]
  },
  {
   "cell_type": "code",
   "execution_count": 93,
   "metadata": {
    "scrolled": true,
    "slideshow": {
     "slide_type": "-"
    }
   },
   "outputs": [
    {
     "name": "stdout",
     "output_type": "stream",
     "text": [
      "Hello!\n",
      "Hello!\n",
      "Hello!\n",
      "Hello!\n"
     ]
    }
   ],
   "source": [
    "for i in range(4):\n",
    "    print('Hello!')"
   ]
  },
  {
   "cell_type": "code",
   "execution_count": 94,
   "metadata": {
    "slideshow": {
     "slide_type": "-"
    }
   },
   "outputs": [
    {
     "name": "stdout",
     "output_type": "stream",
     "text": [
      "0\n",
      "1\n",
      "2\n"
     ]
    }
   ],
   "source": [
    "for i in range(3):\n",
    "    print(i)"
   ]
  },
  {
   "cell_type": "markdown",
   "metadata": {
    "slideshow": {
     "slide_type": "-"
    }
   },
   "source": [
    "Remember that in Python we count from 0 and the upper limit is not included.\n",
    "\n",
    "How can we print the numbers 1, 2, and 3 instead?"
   ]
  },
  {
   "cell_type": "code",
   "execution_count": 98,
   "metadata": {
    "slideshow": {
     "slide_type": "-"
    }
   },
   "outputs": [
    {
     "name": "stdout",
     "output_type": "stream",
     "text": [
      "1\n",
      "2\n",
      "3\n"
     ]
    }
   ],
   "source": [
    "for i in range(1,4):\n",
    "    print(i)"
   ]
  },
  {
   "cell_type": "markdown",
   "metadata": {
    "slideshow": {
     "slide_type": "subslide"
    }
   },
   "source": [
    "Another use of `for` loops is to iterate over a list of items. While we have not looked at lists in details, it suffices to know that a list is defined as comma-seperated items surrounded by square brackets, e.g. `[a, b, c]` where a, b, and c are variables or values.\n",
    "\n",
    "In the following example we will implement the same functionality using first a `for`-loop and thereafter using a `while`-loop.\n",
    "\n",
    "Example: Let's print out the numbers of the following Fibonacci sequence that are divisible by 2:"
   ]
  },
  {
   "cell_type": "code",
   "execution_count": 14,
   "metadata": {},
   "outputs": [],
   "source": [
    "fib_list = [1, 2, 3, 5, 8, 13, 21, 34]"
   ]
  },
  {
   "cell_type": "markdown",
   "metadata": {},
   "source": [
    "### `while`-loop version:"
   ]
  },
  {
   "cell_type": "code",
   "execution_count": 17,
   "metadata": {
    "slideshow": {
     "slide_type": "-"
    }
   },
   "outputs": [
    {
     "name": "stdout",
     "output_type": "stream",
     "text": [
      "2 is divisible by 2.\n",
      "8 is divisible by 2.\n",
      "34 is divisible by 2.\n"
     ]
    }
   ],
   "source": [
    "i = 0\n",
    "while i < len(fib_list):\n",
    "    n = fib_list[i]\n",
    "    if n%2==0:\n",
    "        print(n,'is divisible by 2.')\n",
    "    i += 1"
   ]
  },
  {
   "cell_type": "markdown",
   "metadata": {},
   "source": [
    "### `for`-loop version:"
   ]
  },
  {
   "cell_type": "code",
   "execution_count": 18,
   "metadata": {
    "slideshow": {
     "slide_type": "-"
    }
   },
   "outputs": [
    {
     "name": "stdout",
     "output_type": "stream",
     "text": [
      "2 is divisible by 2.\n",
      "8 is divisible by 2.\n",
      "34 is divisible by 2.\n"
     ]
    }
   ],
   "source": [
    "for n in fib_list:\n",
    "    if n%2==0:\n",
    "        print(n,'is divisible by 2.')"
   ]
  },
  {
   "cell_type": "markdown",
   "metadata": {},
   "source": [
    "Notice how compact the `for`-loop version is compared to the `while`-loop. The `for`-loop is tailored for iterating over lists, whereas the `while`-loop is a more general construction that is more flexible and can be used in situations where the `for`-loop is too rigid. However, often both a `while`-loop and a `for`-loop can get the job done. Experience will help you make the best choice in a given situation."
   ]
  },
  {
   "cell_type": "markdown",
   "metadata": {},
   "source": [
    "# Part 4"
   ]
  },
  {
   "cell_type": "markdown",
   "metadata": {
    "slideshow": {
     "slide_type": "subslide"
    }
   },
   "source": [
    "# Lister\n",
    "Tidligere har vi arbejdet med simple datatyper som kun kan indeholde én værdi:\n",
    "- `int` (heltal),\n",
    "- `float` (kommatal),\n",
    "- `bool` (True/False) og\n",
    "- `str` (tekststreng, som dog kan indeholde mange tegn). \n",
    "\n",
    "En liste er derimod en datatype som kan indeholde flere værdier. Den mest direkte måde at oprette en liste på er ved at skrive dens indhold eksplicit. Der bruger man den følgende syntaks med kantede parenteser.\n",
    "\n",
    "Eksempel med liste af heltal:"
   ]
  },
  {
   "cell_type": "code",
   "execution_count": 5,
   "metadata": {
    "slideshow": {
     "slide_type": "-"
    }
   },
   "outputs": [
    {
     "data": {
      "text/plain": [
       "[10, 20, 30, 40]"
      ]
     },
     "execution_count": 5,
     "metadata": {},
     "output_type": "execute_result"
    }
   ],
   "source": [
    "[10, 20, 30, 40]"
   ]
  },
  {
   "cell_type": "markdown",
   "metadata": {},
   "source": [
    "Eksempel med liste af tekststrenge:"
   ]
  },
  {
   "cell_type": "code",
   "execution_count": 7,
   "metadata": {
    "slideshow": {
     "slide_type": "-"
    }
   },
   "outputs": [
    {
     "data": {
      "text/plain": [
       "['crunchy frog', 'ram bladder', 'lark vomit']"
      ]
     },
     "execution_count": 7,
     "metadata": {},
     "output_type": "execute_result"
    }
   ],
   "source": [
    "['crunchy frog', 'ram bladder', 'lark vomit']"
   ]
  },
  {
   "cell_type": "markdown",
   "metadata": {},
   "source": [
    "Lister kan også tildeles til en variabel:"
   ]
  },
  {
   "cell_type": "code",
   "execution_count": 26,
   "metadata": {},
   "outputs": [
    {
     "name": "stdout",
     "output_type": "stream",
     "text": [
      "[1, 2, 3]\n"
     ]
    }
   ],
   "source": [
    "liste = [1, 2, 3] \n",
    "print(liste)"
   ]
  },
  {
   "cell_type": "markdown",
   "metadata": {
    "slideshow": {
     "slide_type": "fragment"
    }
   },
   "source": [
    "Lister er fleksible nok til at kunne indeholde elementer af forskellig type. Man kan endda kombinere forskellige typer i den samme liste."
   ]
  },
  {
   "cell_type": "markdown",
   "metadata": {},
   "source": [
    "## Opgave 1\n",
    "\n",
    "Lav en liste der indeholde en værdi af hver af de fire simple datatyper nævnt ovenfor. Gem listen i en variabel med navnet `enAfHver`."
   ]
  },
  {
   "cell_type": "code",
   "execution_count": null,
   "metadata": {},
   "outputs": [],
   "source": []
  },
  {
   "cell_type": "markdown",
   "metadata": {
    "slideshow": {
     "slide_type": "-"
    }
   },
   "source": [
    "### Indlejrede lister"
   ]
  },
  {
   "cell_type": "markdown",
   "metadata": {
    "slideshow": {
     "slide_type": "fragment"
    }
   },
   "source": [
    "En liste inden i en liste kaldes *indlejret*."
   ]
  },
  {
   "cell_type": "code",
   "execution_count": 31,
   "metadata": {},
   "outputs": [
    {
     "name": "stdout",
     "output_type": "stream",
     "text": [
      "[[1, 2], [10, 11]]\n"
     ]
    }
   ],
   "source": [
    "indlejret = [[1, 2], [10, 11]]\n",
    "print(indlejret)"
   ]
  },
  {
   "cell_type": "markdown",
   "metadata": {},
   "source": [
    "Hvor mange elementer er der i ovenstående liste?\n",
    "\n",
    "Vi kan bruge `len`-kommandoen til at undersøge dette:"
   ]
  },
  {
   "cell_type": "code",
   "execution_count": 32,
   "metadata": {},
   "outputs": [
    {
     "data": {
      "text/plain": [
       "2"
      ]
     },
     "execution_count": 32,
     "metadata": {},
     "output_type": "execute_result"
    }
   ],
   "source": [
    "len(indlejret)"
   ]
  },
  {
   "cell_type": "markdown",
   "metadata": {},
   "source": [
    "Hvis du tænkte at der er 4 elementer i listen undrer du dig nok over dette resultat. Lad os kigge hvad der er på de to pladser i listen. Her bruger vi kantede paranteser til at indeksere ind i listen:"
   ]
  },
  {
   "cell_type": "code",
   "execution_count": 33,
   "metadata": {},
   "outputs": [
    {
     "name": "stdout",
     "output_type": "stream",
     "text": [
      "[1, 2]\n",
      "[10, 11]\n"
     ]
    }
   ],
   "source": [
    "print(indlejret[0])\n",
    "print(indlejret[1])"
   ]
  },
  {
   "cell_type": "markdown",
   "metadata": {},
   "source": [
    "Som vi kan se her, er det rigtigt at der er to elementer i listen. De to lister har hver især har to elementer. Vi kan tilgå elementerne i de indlejrede lister ved at tilføje endnu et sæt kantede paranteser, på følgende måde:"
   ]
  },
  {
   "cell_type": "code",
   "execution_count": 34,
   "metadata": {},
   "outputs": [
    {
     "name": "stdout",
     "output_type": "stream",
     "text": [
      "10\n"
     ]
    }
   ],
   "source": [
    "print(indlejret[1][0])"
   ]
  },
  {
   "cell_type": "markdown",
   "metadata": {},
   "source": [
    "## Opgave 2\n",
    "\n",
    "Brug dobbelt-indeksering som i eksemplet herover til at udskrive hhv. 2-tallet og 11-tallet fra listen `indlejret`."
   ]
  },
  {
   "cell_type": "code",
   "execution_count": null,
   "metadata": {},
   "outputs": [],
   "source": []
  },
  {
   "cell_type": "markdown",
   "metadata": {
    "slideshow": {
     "slide_type": "subslide"
    }
   },
   "source": [
    "## Lister er muterbare\n",
    "\n",
    "Dvs. at indholdet af en eksisterende liste kan ændres. "
   ]
  },
  {
   "cell_type": "markdown",
   "metadata": {
    "slideshow": {
     "slide_type": "fragment"
    }
   },
   "source": [
    "Ændring af et element i en liste kan gøres således:"
   ]
  },
  {
   "cell_type": "code",
   "execution_count": 35,
   "metadata": {
    "slideshow": {
     "slide_type": "-"
    }
   },
   "outputs": [
    {
     "name": "stdout",
     "output_type": "stream",
     "text": [
      "[42, 123]\n",
      "[42, 5]\n"
     ]
    }
   ],
   "source": [
    "numbers = [42, 123]\n",
    "print(numbers)\n",
    "numbers[1] = 5 # Her ændrer vi værdien af elementet på pladsen med indeks 1.\n",
    "print(numbers)"
   ]
  },
  {
   "cell_type": "markdown",
   "metadata": {
    "slideshow": {
     "slide_type": "subslide"
    }
   },
   "source": [
    "### Gennemløbe en liste\n",
    "\n",
    "Vi kan nemt gennemløbe elementerne i en liste vha. en `for`-løkke:"
   ]
  },
  {
   "cell_type": "code",
   "execution_count": 36,
   "metadata": {
    "slideshow": {
     "slide_type": "-"
    }
   },
   "outputs": [
    {
     "name": "stdout",
     "output_type": "stream",
     "text": [
      "cheddar\n",
      "Gouda\n",
      "Danbo\n"
     ]
    }
   ],
   "source": [
    "cheeses = ['cheddar', 'Gouda', 'Danbo']\n",
    "for cheese in cheeses:\n",
    "    print(cheese)"
   ]
  },
  {
   "cell_type": "markdown",
   "metadata": {},
   "source": [
    "Bemærk hvordan variablen `cheese` i hvert gennemløb får tilskrevet den næste værdi i listen `cheeses`."
   ]
  },
  {
   "cell_type": "markdown",
   "metadata": {
    "slideshow": {
     "slide_type": "subslide"
    }
   },
   "source": [
    "Har man brug for at ændre listen i en `for`-løkke, må man også have indeks til de enkelte elementer vha. `range`-funktionen:"
   ]
  },
  {
   "cell_type": "code",
   "execution_count": null,
   "metadata": {
    "slideshow": {
     "slide_type": "-"
    }
   },
   "outputs": [],
   "source": [
    "for i in range(len(numbers)):\n",
    "    numbers[i] = numbers[i] * 2\n",
    "numbers"
   ]
  },
  {
   "cell_type": "markdown",
   "metadata": {
    "slideshow": {
     "slide_type": "fragment"
    }
   },
   "source": [
    "En løkke over en tom liste kører aldrig:"
   ]
  },
  {
   "cell_type": "code",
   "execution_count": 31,
   "metadata": {
    "slideshow": {
     "slide_type": "-"
    }
   },
   "outputs": [],
   "source": [
    "for x in []:\n",
    "    print('This never happens.')"
   ]
  },
  {
   "cell_type": "markdown",
   "metadata": {},
   "source": [
    "## Opgave 3\n",
    "\n",
    "Lav en `for`-løkke der udskriver hvert andet element i listen `a`."
   ]
  },
  {
   "cell_type": "code",
   "execution_count": 37,
   "metadata": {},
   "outputs": [],
   "source": [
    "a = [12, 23, 34, 45, 56, 67, 78, 89, 90]\n"
   ]
  },
  {
   "cell_type": "markdown",
   "metadata": {
    "slideshow": {
     "slide_type": "subslide"
    }
   },
   "source": [
    "## Operationer på lister\n",
    "\n",
    "Et par af de aritmetiske operatorer fungerer også på lister og har følgende virkning:\n",
    "- Addition (`+`) konkatenerer (sammenføjer) lister:"
   ]
  },
  {
   "cell_type": "code",
   "execution_count": 38,
   "metadata": {
    "slideshow": {
     "slide_type": "-"
    }
   },
   "outputs": [
    {
     "data": {
      "text/plain": [
       "[1, 2, 3, 4, 5, 6]"
      ]
     },
     "execution_count": 38,
     "metadata": {},
     "output_type": "execute_result"
    }
   ],
   "source": [
    "a = [1, 2, 3]\n",
    "b = [4, 5, 6]\n",
    "c = a + b\n",
    "c"
   ]
  },
  {
   "cell_type": "markdown",
   "metadata": {
    "slideshow": {
     "slide_type": "fragment"
    }
   },
   "source": [
    "- Multiplikation (`*`) - med et heltal - repeterer en liste:"
   ]
  },
  {
   "cell_type": "code",
   "execution_count": null,
   "metadata": {
    "slideshow": {
     "slide_type": "-"
    }
   },
   "outputs": [],
   "source": [
    "[0] * 4"
   ]
  },
  {
   "cell_type": "code",
   "execution_count": 36,
   "metadata": {
    "slideshow": {
     "slide_type": "-"
    }
   },
   "outputs": [
    {
     "data": {
      "text/plain": [
       "[1, 2, 3, 1, 2, 3, 1, 2, 3]"
      ]
     },
     "execution_count": 36,
     "metadata": {},
     "output_type": "execute_result"
    }
   ],
   "source": [
    "[1, 2, 3] * 3"
   ]
  },
  {
   "cell_type": "markdown",
   "metadata": {},
   "source": [
    "## Opgave 4\n",
    "\n",
    "Brug addition og multiplikation af listerne `x = [1]` og `y = [2]` til at danne følgende liste `z = [1, 1, 1, 2, 2, 1, 1, 1, 2, 2]`:"
   ]
  },
  {
   "cell_type": "code",
   "execution_count": null,
   "metadata": {},
   "outputs": [],
   "source": [
    "x = [1]\n",
    "y = [2]\n",
    "z = # Udfyld her\n",
    "z"
   ]
  },
  {
   "cell_type": "markdown",
   "metadata": {
    "slideshow": {
     "slide_type": "subslide"
    }
   },
   "source": [
    "## Udsnit af lister\n",
    "\n",
    "Man kan udtage flere elementer fra en liste samtidigt ved at lave en \"slice\". Resultatet af sådan en operation er en ny liste som indeholder de indekserede elementer. Lad os først definere en liste:"
   ]
  },
  {
   "cell_type": "code",
   "execution_count": 2,
   "metadata": {
    "slideshow": {
     "slide_type": "-"
    }
   },
   "outputs": [],
   "source": [
    "t = ['a', 'b', 'c', 'd', 'e', 'f']"
   ]
  },
  {
   "cell_type": "markdown",
   "metadata": {},
   "source": [
    "Vi kan bede om elementer med indeks $1$ til $3$:"
   ]
  },
  {
   "cell_type": "code",
   "execution_count": 3,
   "metadata": {},
   "outputs": [
    {
     "data": {
      "text/plain": [
       "['b', 'c']"
      ]
     },
     "execution_count": 3,
     "metadata": {},
     "output_type": "execute_result"
    }
   ],
   "source": [
    "t[1:3]"
   ]
  },
  {
   "cell_type": "markdown",
   "metadata": {},
   "source": [
    "Bemærk at, ligesom i `range`-funktionen, får vi ikke værdien med slut-indeks med i resultatet. I Python skal `a:b`, (hvor $a$ og $b$ er heltal), forstås som fra $a$ til $b$, (inklusiv $a$ men eksklusiv $b$). Med matematisk notation kan vi skrive $[a,b[$ eller $[a,b)$."
   ]
  },
  {
   "cell_type": "markdown",
   "metadata": {},
   "source": [
    "Vi kan også bede om alle elementer fra start indtil indeks 4 med følgende kommando:"
   ]
  },
  {
   "cell_type": "code",
   "execution_count": 4,
   "metadata": {
    "slideshow": {
     "slide_type": "-"
    }
   },
   "outputs": [
    {
     "data": {
      "text/plain": [
       "['a', 'b', 'c', 'd']"
      ]
     },
     "execution_count": 4,
     "metadata": {},
     "output_type": "execute_result"
    }
   ],
   "source": [
    "t[:4]"
   ]
  },
  {
   "cell_type": "markdown",
   "metadata": {},
   "source": [
    "Ligeledes kan vi bede om alle elementer fra indeks 3 indtil slut:"
   ]
  },
  {
   "cell_type": "code",
   "execution_count": 7,
   "metadata": {
    "slideshow": {
     "slide_type": "-"
    }
   },
   "outputs": [
    {
     "data": {
      "text/plain": [
       "['d', 'e', 'f']"
      ]
     },
     "execution_count": 7,
     "metadata": {},
     "output_type": "execute_result"
    }
   ],
   "source": [
    "t[3:]"
   ]
  },
  {
   "cell_type": "markdown",
   "metadata": {},
   "source": [
    "Endelig kan vi få alle elementer ud ved bare at skrive `:`:"
   ]
  },
  {
   "cell_type": "code",
   "execution_count": 9,
   "metadata": {
    "slideshow": {
     "slide_type": "-"
    }
   },
   "outputs": [
    {
     "data": {
      "text/plain": [
       "['a', 'b', 'c', 'd', 'e', 'f']"
      ]
     },
     "execution_count": 9,
     "metadata": {},
     "output_type": "execute_result"
    }
   ],
   "source": [
    "t[:]"
   ]
  },
  {
   "cell_type": "markdown",
   "metadata": {},
   "source": [
    "Hvis vi ikke kender længden af en liste men gerne vil have f.eks. de sidste 2 værdier ud, kan vi bruge negativ indeksering på følgende måde:"
   ]
  },
  {
   "cell_type": "code",
   "execution_count": 15,
   "metadata": {},
   "outputs": [
    {
     "data": {
      "text/plain": [
       "['e', 'f']"
      ]
     },
     "execution_count": 15,
     "metadata": {},
     "output_type": "execute_result"
    }
   ],
   "source": [
    "t[-2:]"
   ]
  },
  {
   "cell_type": "markdown",
   "metadata": {
    "slideshow": {
     "slide_type": "fragment"
    }
   },
   "source": [
    "Flere elementer i en liste kan ændres på én gang via et slice-udtryk:"
   ]
  },
  {
   "cell_type": "code",
   "execution_count": 16,
   "metadata": {
    "slideshow": {
     "slide_type": "-"
    }
   },
   "outputs": [
    {
     "data": {
      "text/plain": [
       "['a', 'x', 'y', 'd', 'e', 'f']"
      ]
     },
     "execution_count": 16,
     "metadata": {},
     "output_type": "execute_result"
    }
   ],
   "source": [
    "t = ['a', 'b', 'c', 'd', 'e', 'f']\n",
    "t[1:3] = ['x', 'y']\n",
    "t"
   ]
  },
  {
   "cell_type": "markdown",
   "metadata": {},
   "source": [
    "## Opgave 5\n",
    "1. Antag at vi har et datasæt $x$ hvor der er noget støj i hhv. begyndelsen og slutningen. Lav et udsnit af $x$ som indeholder værdierne fra $x$ bortset fra de første og sidste 3 elementer."
   ]
  },
  {
   "cell_type": "code",
   "execution_count": 22,
   "metadata": {},
   "outputs": [],
   "source": [
    "x = [3.1, 2.4, 2.3, 2.5, 2.7, 2.4, 2.5, 2.8, 2.1, 2.7, 2.9]\n",
    "# lav udsnit herunder\n"
   ]
  },
  {
   "cell_type": "markdown",
   "metadata": {},
   "source": [
    "2. Alternativt kan vi også overskrive de støjpåvirkede værdier med en konstant værdi. Overskriv de første og sidste 3 elementer med værdien $2.5$."
   ]
  },
  {
   "cell_type": "code",
   "execution_count": null,
   "metadata": {},
   "outputs": [],
   "source": []
  },
  {
   "cell_type": "markdown",
   "metadata": {},
   "source": [
    "# The end"
   ]
  }
 ],
 "metadata": {
  "kernelspec": {
   "display_name": "Python 3",
   "language": "python",
   "name": "python3"
  },
  "language_info": {
   "codemirror_mode": {
    "name": "ipython",
    "version": 3
   },
   "file_extension": ".py",
   "mimetype": "text/x-python",
   "name": "python",
   "nbconvert_exporter": "python",
   "pygments_lexer": "ipython3",
   "version": "3.8.5"
  }
 },
 "nbformat": 4,
 "nbformat_minor": 4
}
